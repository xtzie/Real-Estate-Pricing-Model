{
 "cells": [
  {
   "cell_type": "markdown",
   "metadata": {},
   "source": [
    "## Preparing Input Data"
   ]
  },
  {
   "cell_type": "markdown",
   "metadata": {
    "ExecuteTime": {
     "end_time": "2020-04-19T22:15:29.867551Z",
     "start_time": "2020-04-19T22:15:29.854420Z"
    },
    "heading_collapsed": true
   },
   "source": [
    "### Basics"
   ]
  },
  {
   "cell_type": "markdown",
   "metadata": {
    "heading_collapsed": true,
    "hidden": true
   },
   "source": [
    "#### importing libraries"
   ]
  },
  {
   "cell_type": "code",
   "execution_count": 1,
   "metadata": {
    "ExecuteTime": {
     "end_time": "2020-04-24T22:52:18.656432Z",
     "start_time": "2020-04-24T22:52:16.457394Z"
    },
    "hidden": true
   },
   "outputs": [],
   "source": [
    "import pandas as pd\n",
    "import numpy as np\n",
    "import pickle\n",
    "import re\n",
    "\n",
    "from sklearn.model_selection import train_test_split\n",
    "from sklearn.linear_model import LinearRegression, Lasso, LassoCV, Ridge, RidgeCV\n",
    "from sklearn.pipeline import Pipeline\n",
    "from sklearn.preprocessing import StandardScaler, PowerTransformer\n",
    "import xgboost as xgb\n",
    "\n",
    "import statsmodels.api as sm\n",
    "import statsmodels.formula.api as smf\n",
    "import patsy\n",
    "import scipy.stats as stats\n",
    "import re\n",
    "\n",
    "import seaborn as sns\n",
    "import matplotlib.pyplot as plt\n",
    "import matplotlib.ticker as ticker\n",
    "\n",
    "from pandas_profiling import ProfileReport\n",
    "\n",
    "sns.set() #sets to default visualizations\n",
    "\n",
    "pd.options.display.max_columns = 30"
   ]
  },
  {
   "cell_type": "markdown",
   "metadata": {
    "hidden": true
   },
   "source": [
    "#### Load and merge datasets"
   ]
  },
  {
   "cell_type": "code",
   "execution_count": 2,
   "metadata": {
    "ExecuteTime": {
     "end_time": "2020-04-24T22:52:18.704532Z",
     "start_time": "2020-04-24T22:52:18.658417Z"
    },
    "hidden": true
   },
   "outputs": [],
   "source": [
    "df = pd.read_csv('baseframe.csv')\n",
    "\n",
    "suppdata = pd.read_csv('supplementary_data.csv')\n",
    "\n",
    "exclude_columns = ['URL (SEE http://www.redfin.com/buy-a-home/comparative-market-analysis FOR INFO ON PRICING)',\n",
    "                 'FAVORITE', 'INTERESTED', 'SOURCE', 'NEXT OPEN HOUSE START TIME', 'NEXT OPEN HOUSE END TIME',\n",
    "                  'STATUS', 'STATE OR PROVINCE', 'CITY', 'Unnamed: 0', 'SOLD DATE', 'ADDRESS', 'MLS#', 'SALE TYPE']\n",
    "df.drop(labels = exclude_columns, axis = 1, inplace = True)\n",
    "\n",
    "exclude_supp_columns = ['Unnamed: 0', 'salesforceurl', 'googleplexurl', 'stanfordurl', \n",
    "                        'incomebyzipcodeurl', 'walkscoreurl', 'failedwalkscores',\n",
    "                       'traveltimetostanford', 'traveltimetogoogleplex', 'traveltimetosf']\n",
    "suppdata.drop(labels = exclude_supp_columns, axis = 1, inplace = True)\n",
    "\n",
    "df.rename(columns = {'ZIP OR POSTAL CODE': 'zipcode'}, inplace = True)\n",
    "df = df.merge(suppdata, left_on = 'zipcode', right_on = 'zipcode', how = 'inner')\n",
    "\n",
    "lowercase = [x.lower() for x in df.columns]\n",
    "nospace_lowercase = [re.sub(' ', '', x) for x in lowercase]\n",
    "df.columns = nospace_lowercase"
   ]
  },
  {
   "cell_type": "markdown",
   "metadata": {
    "hidden": true
   },
   "source": [
    "to select rows - apply(lambda x: isinstance(x, whatever)  \n",
    "to select columns df.iloc[, df.dtypes == whatever] OR df.select_dtypes(include = [whatevers])  \n",
    "https://stackoverflow.com/questions/21271581/selecting-pandas-columns-by-dtype <br>"
   ]
  },
  {
   "cell_type": "code",
   "execution_count": 3,
   "metadata": {
    "ExecuteTime": {
     "end_time": "2020-04-24T22:52:18.721247Z",
     "start_time": "2020-04-24T22:52:18.706992Z"
    },
    "hidden": true
   },
   "outputs": [
    {
     "name": "stdout",
     "output_type": "stream",
     "text": [
      "<class 'pandas.core.frame.DataFrame'>\n",
      "Int64Index: 1974 entries, 0 to 1973\n",
      "Data columns (total 23 columns):\n",
      "propertytype              1974 non-null object\n",
      "zipcode                   1974 non-null int64\n",
      "price                     1974 non-null int64\n",
      "beds                      1789 non-null float64\n",
      "baths                     1722 non-null float64\n",
      "location                  1973 non-null object\n",
      "squarefeet                1769 non-null float64\n",
      "lotsize                   1255 non-null float64\n",
      "yearbuilt                 1630 non-null float64\n",
      "daysonmarket              1850 non-null float64\n",
      "$/squarefeet              1760 non-null float64\n",
      "hoa/month                 658 non-null float64\n",
      "latitude                  1974 non-null float64\n",
      "longitude                 1974 non-null float64\n",
      "medianhouseholdincome     1974 non-null int64\n",
      "averagehouseholdincome    1974 non-null int64\n",
      "percapitaincome           1974 non-null int64\n",
      "highincomehouseholds      1974 non-null int64\n",
      "walk                      1974 non-null int64\n",
      "bike                      1974 non-null int64\n",
      "transit                   1974 non-null int64\n",
      "conveniencescore          1974 non-null int64\n",
      "shortest_travel           1974 non-null int64\n",
      "dtypes: float64(10), int64(11), object(2)\n",
      "memory usage: 370.1+ KB\n"
     ]
    }
   ],
   "source": [
    "df.info()"
   ]
  },
  {
   "cell_type": "code",
   "execution_count": 4,
   "metadata": {
    "ExecuteTime": {
     "end_time": "2020-04-24T22:52:18.757309Z",
     "start_time": "2020-04-24T22:52:18.723643Z"
    },
    "hidden": true
   },
   "outputs": [],
   "source": [
    "def sorter(dataframe,datatypes):\n",
    "    return dataframe.select_dtypes(include = datatypes).columns\n",
    "\n",
    "#returns columns of each data type\n",
    "numbers = sorter(df, ['int64', 'float64'])\n",
    "objects = sorter(df, 'object')\n",
    "boolean = sorter(df, 'bool')"
   ]
  },
  {
   "cell_type": "code",
   "execution_count": 5,
   "metadata": {
    "ExecuteTime": {
     "end_time": "2020-04-24T22:52:18.765793Z",
     "start_time": "2020-04-24T22:52:18.761989Z"
    },
    "hidden": true
   },
   "outputs": [],
   "source": [
    "# coreframe = coreframe[pd.notna(coreframe['BEDS']) & pd.notna(coreframe['BATHS'])]\n",
    "# can use np.isfinite() or pd.notna()\n",
    "# https://stackoverflow.com/questions/13413590/how-to-drop-rows-of-pandas-dataframe-whose-value-in-a-certain-column-is-nan"
   ]
  },
  {
   "cell_type": "code",
   "execution_count": 6,
   "metadata": {
    "ExecuteTime": {
     "end_time": "2020-04-24T22:52:18.780501Z",
     "start_time": "2020-04-24T22:52:18.769993Z"
    },
    "hidden": true
   },
   "outputs": [],
   "source": [
    "# profile = ProfileReport(df, minimal=True)\n",
    "# profile"
   ]
  },
  {
   "cell_type": "markdown",
   "metadata": {
    "heading_collapsed": true
   },
   "source": [
    "### Data Prep"
   ]
  },
  {
   "cell_type": "markdown",
   "metadata": {
    "hidden": true
   },
   "source": [
    "**Numericize data**  \n",
    "Nullify nulls and outliers  \n",
    "Normalize data  "
   ]
  },
  {
   "cell_type": "code",
   "execution_count": 7,
   "metadata": {
    "ExecuteTime": {
     "end_time": "2020-04-24T22:52:18.803774Z",
     "start_time": "2020-04-24T22:52:18.783986Z"
    },
    "hidden": true
   },
   "outputs": [],
   "source": [
    "#categorical data for property types\n",
    "df = df.merge(pd.get_dummies(df.propertytype, prefix='prop').astype(bool), right_index = True, left_index = True)\n",
    "df.drop(labels = 'propertytype', inplace = True, axis = 1)\n",
    "\n",
    "lowercase = [x.lower() for x in df.columns]\n",
    "nospace_lowercase = [re.sub(' ', '', x) for x in lowercase]\n",
    "df.columns = nospace_lowercase"
   ]
  },
  {
   "cell_type": "code",
   "execution_count": 8,
   "metadata": {
    "ExecuteTime": {
     "end_time": "2020-04-24T22:52:18.820671Z",
     "start_time": "2020-04-24T22:52:18.811473Z"
    },
    "hidden": true
   },
   "outputs": [],
   "source": [
    "df['homeownerfees'] = df['hoa/month'] > 1"
   ]
  },
  {
   "cell_type": "markdown",
   "metadata": {
    "heading_collapsed": true
   },
   "source": [
    "### Data Cleaning\n",
    "\n"
   ]
  },
  {
   "cell_type": "markdown",
   "metadata": {
    "hidden": true
   },
   "source": [
    "Numericize data  \n",
    "**Nullify nulls and outliers**  \n",
    "Normalize data  "
   ]
  },
  {
   "cell_type": "code",
   "execution_count": 9,
   "metadata": {
    "ExecuteTime": {
     "end_time": "2020-04-24T22:52:18.841892Z",
     "start_time": "2020-04-24T22:52:18.825265Z"
    },
    "hidden": true
   },
   "outputs": [],
   "source": [
    "#exclude homes outside of modelling scope\n",
    "df = df[(df.prop_vacantland == 0) & (df.prop_other == 0) & (df['$/squarefeet'] > 1)]"
   ]
  },
  {
   "cell_type": "markdown",
   "metadata": {
    "heading_collapsed": true,
    "hidden": true
   },
   "source": [
    "#### remove outliers"
   ]
  },
  {
   "cell_type": "code",
   "execution_count": 10,
   "metadata": {
    "ExecuteTime": {
     "end_time": "2020-04-24T22:52:19.044808Z",
     "start_time": "2020-04-24T22:52:18.847131Z"
    },
    "hidden": true
   },
   "outputs": [
    {
     "name": "stdout",
     "output_type": "stream",
     "text": [
      "zipcode\n",
      "total outliers = 0, 0.0 of data\n",
      "max val = 96890.0, min val = 92202.0\n",
      "price\n",
      "total outliers = 51, 0.029 of data\n",
      "max val = 4555656.0, min val = -2557656.0\n",
      "beds\n",
      "total outliers = 1, 0.001 of data\n",
      "max val = 11.0, min val = -5.0\n",
      "baths\n",
      "total outliers = 8, 0.005 of data\n",
      "max val = 6.0, min val = -2.0\n",
      "squarefeet\n",
      "total outliers = 9, 0.005 of data\n",
      "max val = 5790.0, min val = -2626.0\n",
      "lotsize\n",
      "total outliers = 49, 0.029 of data\n",
      "max val = 21660.0, min val = -11460.0\n",
      "yearbuilt\n",
      "total outliers = 0, 0.0 of data\n",
      "max val = 2216.0, min val = 1728.0\n",
      "daysonmarket\n",
      "total outliers = 19, 0.012 of data\n",
      "max val = 242.0, min val = -214.0\n",
      "$/squarefeet\n",
      "total outliers = 7, 0.004 of data\n",
      "max val = 2074.5, min val = -859.5\n",
      "hoa/month\n",
      "total outliers = 9, 0.006 of data\n",
      "max val = 1603.0, min val = -765.0\n",
      "latitude\n",
      "total outliers = 0, 0.0 of data\n",
      "max val = 39.1330837, min val = 36.136034699999996\n",
      "longitude\n",
      "total outliers = 0, 0.0 of data\n",
      "max val = -120.77194334999996, min val = -123.49769295000004\n",
      "medianhouseholdincome\n",
      "total outliers = 0, 0.0 of data\n",
      "max val = 327176.0, min val = -116280.0\n",
      "averagehouseholdincome\n",
      "total outliers = 0, 0.0 of data\n",
      "max val = 399554.0, min val = -141422.0\n",
      "percapitaincome\n",
      "total outliers = 0, 0.0 of data\n",
      "max val = 160039.0, min val = -66753.0\n",
      "highincomehouseholds\n",
      "total outliers = 0, 0.0 of data\n",
      "max val = 106.0, min val = -70.0\n",
      "walk\n",
      "total outliers = 0, 0.0 of data\n",
      "max val = 273.0, min val = -167.0\n",
      "bike\n",
      "total outliers = 0, 0.0 of data\n",
      "max val = 168.0, min val = -86.0\n",
      "transit\n",
      "total outliers = 0, 0.0 of data\n",
      "max val = 233.0, min val = -111.0\n",
      "conveniencescore\n",
      "total outliers = 0, 0.0 of data\n",
      "max val = 250.0, min val = -118.0\n",
      "shortest_travel\n",
      "total outliers = 2, 0.001 of data\n",
      "max val = 50.0, min val = -14.0\n"
     ]
    },
    {
     "data": {
      "text/plain": [
       "(1604, 32)"
      ]
     },
     "execution_count": 10,
     "metadata": {},
     "output_type": "execute_result"
    }
   ],
   "source": [
    "numbers = sorter(df, ['int64', 'float64']) #returns the columns\n",
    "objects = sorter(df, 'object')\n",
    "boolean = sorter(df, 'bool')\n",
    "\n",
    "def outliercleaner(data, column, quartile = 4):\n",
    "    q25, q50, q75 = data[column].quantile(q = [0.25, 0.5, 0.75])\n",
    "    maxval = q50 + (q75 -q25) * quartile\n",
    "    minval = q50 - (q75 -q25) * quartile\n",
    "    \n",
    "    outlier_list = [False if (minval < x < maxval) else True for x in data[column]]\n",
    "    null_list = list(pd.isnull(data[column]))\n",
    "    length = len(data[column])\n",
    "    outlier_list = [False if null_list[x] == True else outlier_list[x] for x in range(0, length)]\n",
    "    \n",
    "    total_outliers = sum(outlier_list)\n",
    "    percent_outliers = round(total_outliers/len(data[column]),3)\n",
    "    \n",
    "    string = f'total outliers = {total_outliers}, {percent_outliers} of data' \n",
    "    stringtwo = f'max val = {maxval}, min val = {minval}'\n",
    "    print(column)\n",
    "    print(string)\n",
    "    print(stringtwo)\n",
    "    return outlier_list\n",
    "\n",
    "for x in numbers:\n",
    "    df['outliers'] = outliercleaner(df, x)\n",
    "    df = df[df.outliers == False]\n",
    "df.shape"
   ]
  },
  {
   "cell_type": "markdown",
   "metadata": {
    "heading_collapsed": true,
    "hidden": true
   },
   "source": [
    "#### Fill null values"
   ]
  },
  {
   "cell_type": "code",
   "execution_count": 11,
   "metadata": {
    "ExecuteTime": {
     "end_time": "2020-04-24T22:52:19.085298Z",
     "start_time": "2020-04-24T22:52:19.049435Z"
    },
    "hidden": true
   },
   "outputs": [
    {
     "name": "stdout",
     "output_type": "stream",
     "text": [
      "<class 'pandas.core.frame.DataFrame'>\n",
      "Int64Index: 1604 entries, 0 to 1972\n",
      "Data columns (total 32 columns):\n",
      "zipcode                         1604 non-null int64\n",
      "price                           1604 non-null int64\n",
      "beds                            1604 non-null float64\n",
      "baths                           1604 non-null float64\n",
      "location                        1603 non-null object\n",
      "squarefeet                      1604 non-null float64\n",
      "lotsize                         953 non-null float64\n",
      "yearbuilt                       1604 non-null float64\n",
      "daysonmarket                    1604 non-null float64\n",
      "$/squarefeet                    1604 non-null float64\n",
      "hoa/month                       563 non-null float64\n",
      "latitude                        1604 non-null float64\n",
      "longitude                       1604 non-null float64\n",
      "medianhouseholdincome           1604 non-null int64\n",
      "averagehouseholdincome          1604 non-null int64\n",
      "percapitaincome                 1604 non-null int64\n",
      "highincomehouseholds            1604 non-null int64\n",
      "walk                            1604 non-null int64\n",
      "bike                            1604 non-null int64\n",
      "transit                         1604 non-null int64\n",
      "conveniencescore                1604 non-null int64\n",
      "shortest_travel                 1604 non-null int64\n",
      "prop_condo/co-op                1604 non-null bool\n",
      "prop_mobile/manufacturedhome    1604 non-null bool\n",
      "prop_multi-family(2-4unit)      1604 non-null bool\n",
      "prop_multi-family(5+unit)       1604 non-null bool\n",
      "prop_other                      1604 non-null bool\n",
      "prop_singlefamilyresidential    1604 non-null bool\n",
      "prop_townhouse                  1604 non-null bool\n",
      "prop_vacantland                 1604 non-null bool\n",
      "homeownerfees                   1604 non-null bool\n",
      "outliers                        1604 non-null bool\n",
      "dtypes: bool(10), float64(10), int64(11), object(1)\n",
      "memory usage: 303.9+ KB\n"
     ]
    }
   ],
   "source": [
    "from scipy.stats import mode\n",
    "\n",
    "df['beds'].fillna(value = mode(df.beds)[0][0], inplace = True)\n",
    "df['baths'].fillna(value = mode(df.baths)[0][0], inplace = True)\n",
    "df['yearbuilt'].fillna(value = np.mean(df.yearbuilt), inplace = True)\n",
    "df['daysonmarket'].fillna(value = np.mean(df.daysonmarket), inplace = True)\n",
    "\n",
    "# z = np.median(df.daysonmarket)\n",
    "# x = mode(df.daysonmarket)[0][0]\n",
    "# y = np.mean(df.daysonmarket)\n",
    "# print(z)\n",
    "# print(x)\n",
    "# print(y)\n",
    "df.info()"
   ]
  },
  {
   "cell_type": "markdown",
   "metadata": {},
   "source": [
    "### Data transformation"
   ]
  },
  {
   "cell_type": "markdown",
   "metadata": {},
   "source": [
    "Numericize data  \n",
    "Nullify nulls and outliers  \n",
    "**Normalize data**  "
   ]
  },
  {
   "cell_type": "markdown",
   "metadata": {
    "heading_collapsed": true
   },
   "source": [
    "#### Feature Engineering"
   ]
  },
  {
   "cell_type": "code",
   "execution_count": 13,
   "metadata": {
    "ExecuteTime": {
     "end_time": "2020-04-24T22:52:27.043592Z",
     "start_time": "2020-04-24T22:52:19.106444Z"
    },
    "hidden": true
   },
   "outputs": [
    {
     "name": "stderr",
     "output_type": "stream",
     "text": [
      "/home/xtzie/anaconda3/envs/metis/lib/python3.7/site-packages/numpy/lib/histograms.py:839: RuntimeWarning: invalid value encountered in greater_equal\n",
      "  keep = (tmp_a >= first_edge)\n",
      "/home/xtzie/anaconda3/envs/metis/lib/python3.7/site-packages/numpy/lib/histograms.py:840: RuntimeWarning: invalid value encountered in less_equal\n",
      "  keep &= (tmp_a <= last_edge)\n"
     ]
    },
    {
     "data": {
      "image/png": "[encoded data removed]",
      "text/plain": [
       "<Figure size 1440x2880 with 21 Axes>"
      ]
     },
     "metadata": {},
     "output_type": "display_data"
    }
   ],
   "source": [
    "plt.figure(figsize = (20,40))\n",
    "for index, x in enumerate(numbers):\n",
    "    plt.subplot(7,4, index + 1)\n",
    "    plt.hist(df[x].values)\n",
    "    plt.title(x, fontsize = 19)"
   ]
  },
  {
   "cell_type": "code",
   "execution_count": 14,
   "metadata": {
    "ExecuteTime": {
     "end_time": "2020-04-24T22:52:27.064451Z",
     "start_time": "2020-04-24T22:52:27.045523Z"
    },
    "hidden": true
   },
   "outputs": [],
   "source": [
    "def year_categorizer(x):\n",
    "    if x > 2010:\n",
    "        return \"2010s\"\n",
    "    elif x > 2000:\n",
    "        return \"2000s\"\n",
    "    elif x > 1980:\n",
    "        return \"80s-90s\"\n",
    "    elif x > 1970:\n",
    "        return \"70s\"\n",
    "    elif x > 1960:\n",
    "        return \"60s\"\n",
    "    elif x > 1950:\n",
    "        return \"50s\"\n",
    "    else:\n",
    "        return \"before 50s\"\n",
    "    \n",
    "df['era'] = df.yearbuilt.apply(lambda x: year_categorizer(x))\n",
    "\n",
    "df = df.merge(pd.get_dummies(df.era, prefix='era').astype(bool), right_index = True, left_index = True)"
   ]
  },
  {
   "cell_type": "markdown",
   "metadata": {},
   "source": [
    "#### splitting data"
   ]
  },
  {
   "cell_type": "code",
   "execution_count": 24,
   "metadata": {
    "ExecuteTime": {
     "end_time": "2020-04-24T22:59:19.124715Z",
     "start_time": "2020-04-24T22:59:19.114160Z"
    }
   },
   "outputs": [
    {
     "data": {
      "text/plain": [
       "Index(['zipcode', 'price', 'beds', 'baths', 'location', 'squarefeet',\n",
       "       'lotsize', 'yearbuilt', 'daysonmarket', '$/squarefeet', 'hoa/month',\n",
       "       'latitude', 'longitude', 'medianhouseholdincome',\n",
       "       'averagehouseholdincome', 'percapitaincome', 'highincomehouseholds',\n",
       "       'walk', 'bike', 'transit', 'conveniencescore', 'shortest_travel',\n",
       "       'prop_condo/co-op', 'prop_mobile/manufacturedhome',\n",
       "       'prop_multi-family(2-4unit)', 'prop_multi-family(5+unit)', 'prop_other',\n",
       "       'prop_singlefamilyresidential', 'prop_townhouse', 'prop_vacantland',\n",
       "       'homeownerfees', 'outliers', 'era', 'era_2000s', 'era_2010s', 'era_50s',\n",
       "       'era_60s', 'era_70s', 'era_80s-90s', 'era_before 50s', 'intercept'],\n",
       "      dtype='object')"
      ]
     },
     "execution_count": 24,
     "metadata": {},
     "output_type": "execute_result"
    }
   ],
   "source": [
    "df.columns"
   ]
  },
  {
   "cell_type": "code",
   "execution_count": 61,
   "metadata": {
    "ExecuteTime": {
     "end_time": "2020-04-24T23:25:10.444945Z",
     "start_time": "2020-04-24T23:25:10.409425Z"
    },
    "scrolled": true
   },
   "outputs": [
    {
     "name": "stderr",
     "output_type": "stream",
     "text": [
      "/home/xtzie/anaconda3/envs/metis/lib/python3.7/site-packages/ipykernel_launcher.py:21: SettingWithCopyWarning: \n",
      "A value is trying to be set on a copy of a slice from a DataFrame.\n",
      "Try using .loc[row_indexer,col_indexer] = value instead\n",
      "\n",
      "See the caveats in the documentation: http://pandas.pydata.org/pandas-docs/stable/user_guide/indexing.html#returning-a-view-versus-a-copy\n",
      "/home/xtzie/anaconda3/envs/metis/lib/python3.7/site-packages/pandas/core/indexing.py:494: SettingWithCopyWarning: \n",
      "A value is trying to be set on a copy of a slice from a DataFrame.\n",
      "Try using .loc[row_indexer,col_indexer] = value instead\n",
      "\n",
      "See the caveats in the documentation: http://pandas.pydata.org/pandas-docs/stable/user_guide/indexing.html#returning-a-view-versus-a-copy\n",
      "  self.obj[item] = s\n"
     ]
    },
    {
     "data": {
      "text/plain": [
       "935     310.0\n",
       "1220    163.0\n",
       "811     535.0\n",
       "553     412.0\n",
       "941     715.0\n",
       "        ...  \n",
       "1394    822.0\n",
       "1595    634.0\n",
       "1116    447.0\n",
       "1780    185.0\n",
       "1390    643.0\n",
       "Name: $/squarefeet, Length: 1283, dtype: float64"
      ]
     },
     "execution_count": 61,
     "metadata": {},
     "output_type": "execute_result"
    }
   ],
   "source": [
    "#general syntax to get x and y variables\n",
    "df['intercept'] = 1\n",
    "\n",
    "x_cols = ['beds', 'baths', 'squarefeet',\n",
    "       'yearbuilt', 'daysonmarket', 'medianhouseholdincome', 'highincomehouseholds',\n",
    "       'conveniencescore', 'shortest_travel','intercept',\n",
    "       'prop_condo/co-op', 'prop_mobile/manufacturedhome',\n",
    "       'prop_multi-family(2-4unit)', 'prop_multi-family(5+unit)', 'prop_other',\n",
    "       'prop_singlefamilyresidential', 'prop_townhouse', 'prop_vacantland',\n",
    "        'era_2000s', 'era_2010s', 'era_50s',\n",
    "       'era_60s', 'era_70s', 'era_80s-90s', 'era_before 50s',\n",
    "       'homeownerfees']\n",
    "X = df[x_cols]\n",
    "y = df['$/squarefeet']\n",
    "\n",
    "#simple split of training data\n",
    "X_train, X_test, y_train, y_test = train_test_split(X, y, test_size=0.2, random_state=42)\n",
    "\n",
    "def standardizer(dfx, columns):\n",
    "    std = StandardScaler()\n",
    "    dfx[columns] = std.fit_transform(dfx[columns])\n",
    "    \n",
    "standardizer(X_train, X_train.columns[:9])\n",
    "\n",
    "y_train"
   ]
  },
  {
   "cell_type": "markdown",
   "metadata": {},
   "source": [
    "## Modelling & Assumption Testing"
   ]
  },
  {
   "cell_type": "code",
   "execution_count": 58,
   "metadata": {
    "ExecuteTime": {
     "end_time": "2020-04-24T23:24:32.385824Z",
     "start_time": "2020-04-24T23:24:32.344904Z"
    }
   },
   "outputs": [
    {
     "ename": "ValueError",
     "evalue": "Pandas data cast to numpy dtype of object. Check input data with np.asarray(data).",
     "output_type": "error",
     "traceback": [
      "\u001b[0;31m---------------------------------------------------------------------------\u001b[0m",
      "\u001b[0;31mValueError\u001b[0m                                Traceback (most recent call last)",
      "\u001b[0;32m<ipython-input-58-bce761c4c72e>\u001b[0m in \u001b[0;36m<module>\u001b[0;34m\u001b[0m\n\u001b[0;32m----> 1\u001b[0;31m \u001b[0mmodel\u001b[0m \u001b[0;34m=\u001b[0m \u001b[0msm\u001b[0m\u001b[0;34m.\u001b[0m\u001b[0mOLS\u001b[0m\u001b[0;34m(\u001b[0m\u001b[0my_train\u001b[0m\u001b[0;34m,\u001b[0m \u001b[0mnp\u001b[0m\u001b[0;34m.\u001b[0m\u001b[0masarray\u001b[0m\u001b[0;34m(\u001b[0m\u001b[0mX_train\u001b[0m\u001b[0;34m)\u001b[0m\u001b[0;34m)\u001b[0m\u001b[0;34m\u001b[0m\u001b[0;34m\u001b[0m\u001b[0m\n\u001b[0m\u001b[1;32m      2\u001b[0m \u001b[0;31m#adds a zero variance feature - a column of ones to your data\u001b[0m\u001b[0;34m\u001b[0m\u001b[0;34m\u001b[0m\u001b[0;34m\u001b[0m\u001b[0m\n\u001b[1;32m      3\u001b[0m \u001b[0;31m#one * whatever coefficient gives intercept\u001b[0m\u001b[0;34m\u001b[0m\u001b[0;34m\u001b[0m\u001b[0;34m\u001b[0m\u001b[0m\n\u001b[1;32m      4\u001b[0m \u001b[0;34m\u001b[0m\u001b[0m\n\u001b[1;32m      5\u001b[0m \u001b[0mfit\u001b[0m \u001b[0;34m=\u001b[0m \u001b[0mmodel\u001b[0m\u001b[0;34m.\u001b[0m\u001b[0mfit\u001b[0m\u001b[0;34m(\u001b[0m\u001b[0;34m)\u001b[0m\u001b[0;34m\u001b[0m\u001b[0;34m\u001b[0m\u001b[0m\n",
      "\u001b[0;32m~/anaconda3/envs/metis/lib/python3.7/site-packages/statsmodels/regression/linear_model.py\u001b[0m in \u001b[0;36m__init__\u001b[0;34m(self, endog, exog, missing, hasconst, **kwargs)\u001b[0m\n\u001b[1;32m    836\u001b[0m                  **kwargs):\n\u001b[1;32m    837\u001b[0m         super(OLS, self).__init__(endog, exog, missing=missing,\n\u001b[0;32m--> 838\u001b[0;31m                                   hasconst=hasconst, **kwargs)\n\u001b[0m\u001b[1;32m    839\u001b[0m         \u001b[0;32mif\u001b[0m \u001b[0;34m\"weights\"\u001b[0m \u001b[0;32min\u001b[0m \u001b[0mself\u001b[0m\u001b[0;34m.\u001b[0m\u001b[0m_init_keys\u001b[0m\u001b[0;34m:\u001b[0m\u001b[0;34m\u001b[0m\u001b[0;34m\u001b[0m\u001b[0m\n\u001b[1;32m    840\u001b[0m             \u001b[0mself\u001b[0m\u001b[0;34m.\u001b[0m\u001b[0m_init_keys\u001b[0m\u001b[0;34m.\u001b[0m\u001b[0mremove\u001b[0m\u001b[0;34m(\u001b[0m\u001b[0;34m\"weights\"\u001b[0m\u001b[0;34m)\u001b[0m\u001b[0;34m\u001b[0m\u001b[0;34m\u001b[0m\u001b[0m\n",
      "\u001b[0;32m~/anaconda3/envs/metis/lib/python3.7/site-packages/statsmodels/regression/linear_model.py\u001b[0m in \u001b[0;36m__init__\u001b[0;34m(self, endog, exog, weights, missing, hasconst, **kwargs)\u001b[0m\n\u001b[1;32m    682\u001b[0m             \u001b[0mweights\u001b[0m \u001b[0;34m=\u001b[0m \u001b[0mweights\u001b[0m\u001b[0;34m.\u001b[0m\u001b[0msqueeze\u001b[0m\u001b[0;34m(\u001b[0m\u001b[0;34m)\u001b[0m\u001b[0;34m\u001b[0m\u001b[0;34m\u001b[0m\u001b[0m\n\u001b[1;32m    683\u001b[0m         super(WLS, self).__init__(endog, exog, missing=missing,\n\u001b[0;32m--> 684\u001b[0;31m                                   weights=weights, hasconst=hasconst, **kwargs)\n\u001b[0m\u001b[1;32m    685\u001b[0m         \u001b[0mnobs\u001b[0m \u001b[0;34m=\u001b[0m \u001b[0mself\u001b[0m\u001b[0;34m.\u001b[0m\u001b[0mexog\u001b[0m\u001b[0;34m.\u001b[0m\u001b[0mshape\u001b[0m\u001b[0;34m[\u001b[0m\u001b[0;36m0\u001b[0m\u001b[0;34m]\u001b[0m\u001b[0;34m\u001b[0m\u001b[0;34m\u001b[0m\u001b[0m\n\u001b[1;32m    686\u001b[0m         \u001b[0mweights\u001b[0m \u001b[0;34m=\u001b[0m \u001b[0mself\u001b[0m\u001b[0;34m.\u001b[0m\u001b[0mweights\u001b[0m\u001b[0;34m\u001b[0m\u001b[0;34m\u001b[0m\u001b[0m\n",
      "\u001b[0;32m~/anaconda3/envs/metis/lib/python3.7/site-packages/statsmodels/regression/linear_model.py\u001b[0m in \u001b[0;36m__init__\u001b[0;34m(self, endog, exog, **kwargs)\u001b[0m\n\u001b[1;32m    194\u001b[0m     \"\"\"\n\u001b[1;32m    195\u001b[0m     \u001b[0;32mdef\u001b[0m \u001b[0m__init__\u001b[0m\u001b[0;34m(\u001b[0m\u001b[0mself\u001b[0m\u001b[0;34m,\u001b[0m \u001b[0mendog\u001b[0m\u001b[0;34m,\u001b[0m \u001b[0mexog\u001b[0m\u001b[0;34m,\u001b[0m \u001b[0;34m**\u001b[0m\u001b[0mkwargs\u001b[0m\u001b[0;34m)\u001b[0m\u001b[0;34m:\u001b[0m\u001b[0;34m\u001b[0m\u001b[0;34m\u001b[0m\u001b[0m\n\u001b[0;32m--> 196\u001b[0;31m         \u001b[0msuper\u001b[0m\u001b[0;34m(\u001b[0m\u001b[0mRegressionModel\u001b[0m\u001b[0;34m,\u001b[0m \u001b[0mself\u001b[0m\u001b[0;34m)\u001b[0m\u001b[0;34m.\u001b[0m\u001b[0m__init__\u001b[0m\u001b[0;34m(\u001b[0m\u001b[0mendog\u001b[0m\u001b[0;34m,\u001b[0m \u001b[0mexog\u001b[0m\u001b[0;34m,\u001b[0m \u001b[0;34m**\u001b[0m\u001b[0mkwargs\u001b[0m\u001b[0;34m)\u001b[0m\u001b[0;34m\u001b[0m\u001b[0;34m\u001b[0m\u001b[0m\n\u001b[0m\u001b[1;32m    197\u001b[0m         \u001b[0mself\u001b[0m\u001b[0;34m.\u001b[0m\u001b[0m_data_attr\u001b[0m\u001b[0;34m.\u001b[0m\u001b[0mextend\u001b[0m\u001b[0;34m(\u001b[0m\u001b[0;34m[\u001b[0m\u001b[0;34m'pinv_wexog'\u001b[0m\u001b[0;34m,\u001b[0m \u001b[0;34m'wendog'\u001b[0m\u001b[0;34m,\u001b[0m \u001b[0;34m'wexog'\u001b[0m\u001b[0;34m,\u001b[0m \u001b[0;34m'weights'\u001b[0m\u001b[0;34m]\u001b[0m\u001b[0;34m)\u001b[0m\u001b[0;34m\u001b[0m\u001b[0;34m\u001b[0m\u001b[0m\n\u001b[1;32m    198\u001b[0m \u001b[0;34m\u001b[0m\u001b[0m\n",
      "\u001b[0;32m~/anaconda3/envs/metis/lib/python3.7/site-packages/statsmodels/base/model.py\u001b[0m in \u001b[0;36m__init__\u001b[0;34m(self, endog, exog, **kwargs)\u001b[0m\n\u001b[1;32m    214\u001b[0m \u001b[0;34m\u001b[0m\u001b[0m\n\u001b[1;32m    215\u001b[0m     \u001b[0;32mdef\u001b[0m \u001b[0m__init__\u001b[0m\u001b[0;34m(\u001b[0m\u001b[0mself\u001b[0m\u001b[0;34m,\u001b[0m \u001b[0mendog\u001b[0m\u001b[0;34m,\u001b[0m \u001b[0mexog\u001b[0m\u001b[0;34m=\u001b[0m\u001b[0;32mNone\u001b[0m\u001b[0;34m,\u001b[0m \u001b[0;34m**\u001b[0m\u001b[0mkwargs\u001b[0m\u001b[0;34m)\u001b[0m\u001b[0;34m:\u001b[0m\u001b[0;34m\u001b[0m\u001b[0;34m\u001b[0m\u001b[0m\n\u001b[0;32m--> 216\u001b[0;31m         \u001b[0msuper\u001b[0m\u001b[0;34m(\u001b[0m\u001b[0mLikelihoodModel\u001b[0m\u001b[0;34m,\u001b[0m \u001b[0mself\u001b[0m\u001b[0;34m)\u001b[0m\u001b[0;34m.\u001b[0m\u001b[0m__init__\u001b[0m\u001b[0;34m(\u001b[0m\u001b[0mendog\u001b[0m\u001b[0;34m,\u001b[0m \u001b[0mexog\u001b[0m\u001b[0;34m,\u001b[0m \u001b[0;34m**\u001b[0m\u001b[0mkwargs\u001b[0m\u001b[0;34m)\u001b[0m\u001b[0;34m\u001b[0m\u001b[0;34m\u001b[0m\u001b[0m\n\u001b[0m\u001b[1;32m    217\u001b[0m         \u001b[0mself\u001b[0m\u001b[0;34m.\u001b[0m\u001b[0minitialize\u001b[0m\u001b[0;34m(\u001b[0m\u001b[0;34m)\u001b[0m\u001b[0;34m\u001b[0m\u001b[0;34m\u001b[0m\u001b[0m\n\u001b[1;32m    218\u001b[0m \u001b[0;34m\u001b[0m\u001b[0m\n",
      "\u001b[0;32m~/anaconda3/envs/metis/lib/python3.7/site-packages/statsmodels/base/model.py\u001b[0m in \u001b[0;36m__init__\u001b[0;34m(self, endog, exog, **kwargs)\u001b[0m\n\u001b[1;32m     66\u001b[0m         \u001b[0mhasconst\u001b[0m \u001b[0;34m=\u001b[0m \u001b[0mkwargs\u001b[0m\u001b[0;34m.\u001b[0m\u001b[0mpop\u001b[0m\u001b[0;34m(\u001b[0m\u001b[0;34m'hasconst'\u001b[0m\u001b[0;34m,\u001b[0m \u001b[0;32mNone\u001b[0m\u001b[0;34m)\u001b[0m\u001b[0;34m\u001b[0m\u001b[0;34m\u001b[0m\u001b[0m\n\u001b[1;32m     67\u001b[0m         self.data = self._handle_data(endog, exog, missing, hasconst,\n\u001b[0;32m---> 68\u001b[0;31m                                       **kwargs)\n\u001b[0m\u001b[1;32m     69\u001b[0m         \u001b[0mself\u001b[0m\u001b[0;34m.\u001b[0m\u001b[0mk_constant\u001b[0m \u001b[0;34m=\u001b[0m \u001b[0mself\u001b[0m\u001b[0;34m.\u001b[0m\u001b[0mdata\u001b[0m\u001b[0;34m.\u001b[0m\u001b[0mk_constant\u001b[0m\u001b[0;34m\u001b[0m\u001b[0;34m\u001b[0m\u001b[0m\n\u001b[1;32m     70\u001b[0m         \u001b[0mself\u001b[0m\u001b[0;34m.\u001b[0m\u001b[0mexog\u001b[0m \u001b[0;34m=\u001b[0m \u001b[0mself\u001b[0m\u001b[0;34m.\u001b[0m\u001b[0mdata\u001b[0m\u001b[0;34m.\u001b[0m\u001b[0mexog\u001b[0m\u001b[0;34m\u001b[0m\u001b[0;34m\u001b[0m\u001b[0m\n",
      "\u001b[0;32m~/anaconda3/envs/metis/lib/python3.7/site-packages/statsmodels/base/model.py\u001b[0m in \u001b[0;36m_handle_data\u001b[0;34m(self, endog, exog, missing, hasconst, **kwargs)\u001b[0m\n\u001b[1;32m     89\u001b[0m \u001b[0;34m\u001b[0m\u001b[0m\n\u001b[1;32m     90\u001b[0m     \u001b[0;32mdef\u001b[0m \u001b[0m_handle_data\u001b[0m\u001b[0;34m(\u001b[0m\u001b[0mself\u001b[0m\u001b[0;34m,\u001b[0m \u001b[0mendog\u001b[0m\u001b[0;34m,\u001b[0m \u001b[0mexog\u001b[0m\u001b[0;34m,\u001b[0m \u001b[0mmissing\u001b[0m\u001b[0;34m,\u001b[0m \u001b[0mhasconst\u001b[0m\u001b[0;34m,\u001b[0m \u001b[0;34m**\u001b[0m\u001b[0mkwargs\u001b[0m\u001b[0;34m)\u001b[0m\u001b[0;34m:\u001b[0m\u001b[0;34m\u001b[0m\u001b[0;34m\u001b[0m\u001b[0m\n\u001b[0;32m---> 91\u001b[0;31m         \u001b[0mdata\u001b[0m \u001b[0;34m=\u001b[0m \u001b[0mhandle_data\u001b[0m\u001b[0;34m(\u001b[0m\u001b[0mendog\u001b[0m\u001b[0;34m,\u001b[0m \u001b[0mexog\u001b[0m\u001b[0;34m,\u001b[0m \u001b[0mmissing\u001b[0m\u001b[0;34m,\u001b[0m \u001b[0mhasconst\u001b[0m\u001b[0;34m,\u001b[0m \u001b[0;34m**\u001b[0m\u001b[0mkwargs\u001b[0m\u001b[0;34m)\u001b[0m\u001b[0;34m\u001b[0m\u001b[0;34m\u001b[0m\u001b[0m\n\u001b[0m\u001b[1;32m     92\u001b[0m         \u001b[0;31m# kwargs arrays could have changed, easier to just attach here\u001b[0m\u001b[0;34m\u001b[0m\u001b[0;34m\u001b[0m\u001b[0;34m\u001b[0m\u001b[0m\n\u001b[1;32m     93\u001b[0m         \u001b[0;32mfor\u001b[0m \u001b[0mkey\u001b[0m \u001b[0;32min\u001b[0m \u001b[0mkwargs\u001b[0m\u001b[0;34m:\u001b[0m\u001b[0;34m\u001b[0m\u001b[0;34m\u001b[0m\u001b[0m\n",
      "\u001b[0;32m~/anaconda3/envs/metis/lib/python3.7/site-packages/statsmodels/base/data.py\u001b[0m in \u001b[0;36mhandle_data\u001b[0;34m(endog, exog, missing, hasconst, **kwargs)\u001b[0m\n\u001b[1;32m    633\u001b[0m     \u001b[0mklass\u001b[0m \u001b[0;34m=\u001b[0m \u001b[0mhandle_data_class_factory\u001b[0m\u001b[0;34m(\u001b[0m\u001b[0mendog\u001b[0m\u001b[0;34m,\u001b[0m \u001b[0mexog\u001b[0m\u001b[0;34m)\u001b[0m\u001b[0;34m\u001b[0m\u001b[0;34m\u001b[0m\u001b[0m\n\u001b[1;32m    634\u001b[0m     return klass(endog, exog=exog, missing=missing, hasconst=hasconst,\n\u001b[0;32m--> 635\u001b[0;31m                  **kwargs)\n\u001b[0m",
      "\u001b[0;32m~/anaconda3/envs/metis/lib/python3.7/site-packages/statsmodels/base/data.py\u001b[0m in \u001b[0;36m__init__\u001b[0;34m(self, endog, exog, missing, hasconst, **kwargs)\u001b[0m\n\u001b[1;32m     74\u001b[0m             \u001b[0mself\u001b[0m\u001b[0;34m.\u001b[0m\u001b[0morig_endog\u001b[0m \u001b[0;34m=\u001b[0m \u001b[0mendog\u001b[0m\u001b[0;34m\u001b[0m\u001b[0;34m\u001b[0m\u001b[0m\n\u001b[1;32m     75\u001b[0m             \u001b[0mself\u001b[0m\u001b[0;34m.\u001b[0m\u001b[0morig_exog\u001b[0m \u001b[0;34m=\u001b[0m \u001b[0mexog\u001b[0m\u001b[0;34m\u001b[0m\u001b[0;34m\u001b[0m\u001b[0m\n\u001b[0;32m---> 76\u001b[0;31m             \u001b[0mself\u001b[0m\u001b[0;34m.\u001b[0m\u001b[0mendog\u001b[0m\u001b[0;34m,\u001b[0m \u001b[0mself\u001b[0m\u001b[0;34m.\u001b[0m\u001b[0mexog\u001b[0m \u001b[0;34m=\u001b[0m \u001b[0mself\u001b[0m\u001b[0;34m.\u001b[0m\u001b[0m_convert_endog_exog\u001b[0m\u001b[0;34m(\u001b[0m\u001b[0mendog\u001b[0m\u001b[0;34m,\u001b[0m \u001b[0mexog\u001b[0m\u001b[0;34m)\u001b[0m\u001b[0;34m\u001b[0m\u001b[0;34m\u001b[0m\u001b[0m\n\u001b[0m\u001b[1;32m     77\u001b[0m \u001b[0;34m\u001b[0m\u001b[0m\n\u001b[1;32m     78\u001b[0m         \u001b[0mself\u001b[0m\u001b[0;34m.\u001b[0m\u001b[0mconst_idx\u001b[0m \u001b[0;34m=\u001b[0m \u001b[0;32mNone\u001b[0m\u001b[0;34m\u001b[0m\u001b[0;34m\u001b[0m\u001b[0m\n",
      "\u001b[0;32m~/anaconda3/envs/metis/lib/python3.7/site-packages/statsmodels/base/data.py\u001b[0m in \u001b[0;36m_convert_endog_exog\u001b[0;34m(self, endog, exog)\u001b[0m\n\u001b[1;32m    473\u001b[0m         \u001b[0mexog\u001b[0m \u001b[0;34m=\u001b[0m \u001b[0mexog\u001b[0m \u001b[0;32mif\u001b[0m \u001b[0mexog\u001b[0m \u001b[0;32mis\u001b[0m \u001b[0;32mNone\u001b[0m \u001b[0;32melse\u001b[0m \u001b[0mnp\u001b[0m\u001b[0;34m.\u001b[0m\u001b[0masarray\u001b[0m\u001b[0;34m(\u001b[0m\u001b[0mexog\u001b[0m\u001b[0;34m)\u001b[0m\u001b[0;34m\u001b[0m\u001b[0;34m\u001b[0m\u001b[0m\n\u001b[1;32m    474\u001b[0m         \u001b[0;32mif\u001b[0m \u001b[0mendog\u001b[0m\u001b[0;34m.\u001b[0m\u001b[0mdtype\u001b[0m \u001b[0;34m==\u001b[0m \u001b[0mobject\u001b[0m \u001b[0;32mor\u001b[0m \u001b[0mexog\u001b[0m \u001b[0;32mis\u001b[0m \u001b[0;32mnot\u001b[0m \u001b[0;32mNone\u001b[0m \u001b[0;32mand\u001b[0m \u001b[0mexog\u001b[0m\u001b[0;34m.\u001b[0m\u001b[0mdtype\u001b[0m \u001b[0;34m==\u001b[0m \u001b[0mobject\u001b[0m\u001b[0;34m:\u001b[0m\u001b[0;34m\u001b[0m\u001b[0;34m\u001b[0m\u001b[0m\n\u001b[0;32m--> 475\u001b[0;31m             raise ValueError(\"Pandas data cast to numpy dtype of object. \"\n\u001b[0m\u001b[1;32m    476\u001b[0m                              \"Check input data with np.asarray(data).\")\n\u001b[1;32m    477\u001b[0m         \u001b[0;32mreturn\u001b[0m \u001b[0msuper\u001b[0m\u001b[0;34m(\u001b[0m\u001b[0mPandasData\u001b[0m\u001b[0;34m,\u001b[0m \u001b[0mself\u001b[0m\u001b[0;34m)\u001b[0m\u001b[0;34m.\u001b[0m\u001b[0m_convert_endog_exog\u001b[0m\u001b[0;34m(\u001b[0m\u001b[0mendog\u001b[0m\u001b[0;34m,\u001b[0m \u001b[0mexog\u001b[0m\u001b[0;34m)\u001b[0m\u001b[0;34m\u001b[0m\u001b[0;34m\u001b[0m\u001b[0m\n",
      "\u001b[0;31mValueError\u001b[0m: Pandas data cast to numpy dtype of object. Check input data with np.asarray(data)."
     ]
    }
   ],
   "source": [
    "model = sm.OLS(y_train, np.asarray(X_train))\n",
    "#adds a zero variance feature - a column of ones to your data\n",
    "#one * whatever coefficient gives intercept\n",
    "\n",
    "fit = model.fit()\n",
    "fit.summary()"
   ]
  },
  {
   "cell_type": "code",
   "execution_count": 62,
   "metadata": {
    "ExecuteTime": {
     "end_time": "2020-04-24T23:45:05.026457Z",
     "start_time": "2020-04-24T23:45:04.884229Z"
    }
   },
   "outputs": [
    {
     "name": "stdout",
     "output_type": "stream",
     "text": [
      "[16:45:04] WARNING: src/objective/regression_obj.cu:152: reg:linear is now deprecated in favor of reg:squarederror.\n"
     ]
    },
    {
     "name": "stderr",
     "output_type": "stream",
     "text": [
      "/home/xtzie/anaconda3/envs/metis/lib/python3.7/site-packages/xgboost/core.py:587: FutureWarning: Series.base is deprecated and will be removed in a future version\n",
      "  if getattr(data, 'base', None) is not None and \\\n"
     ]
    },
    {
     "data": {
      "text/plain": [
       "array([ 930.8827 ,  930.8827 ,  807.04987,  937.6782 ,  807.04987,\n",
       "        802.24805,  915.4636 ,  937.6782 ,  937.6782 ,  855.9048 ,\n",
       "        930.8827 ,  930.8827 ,  930.8827 ,  930.8827 ,  978.3595 ,\n",
       "        981.3732 ,  937.6782 ,  942.48004,  807.04987,  620.88336,\n",
       "        930.8827 ,  802.24805,  930.8827 ,  930.8827 ,  937.6782 ,\n",
       "        930.8827 ,  993.1228 ,  934.31647,  991.20856,  915.4636 ,\n",
       "        937.6782 ,  807.04987,  915.4636 ,  930.8827 ,  745.3076 ,\n",
       "        930.8827 ,  930.8827 ,  802.24805,  937.6782 ,  938.4985 ,\n",
       "        937.6782 ,  807.04987,  937.6782 ,  937.6782 ,  807.04987,\n",
       "       1015.2885 ,  937.6782 ,  945.9138 ,  930.8827 ,  527.8178 ,\n",
       "        978.3595 ,  951.2427 ,  915.4636 ,  978.3595 ,  937.6782 ,\n",
       "        803.0682 , 1015.2885 ,  926.3329 ,  930.8827 ,  930.8827 ,\n",
       "        930.8827 ,  938.4985 ,  744.4875 ,  957.8991 ,  930.8827 ,\n",
       "        930.8827 ,  930.8827 ,  930.8827 ,  862.5739 ,  933.1284 ,\n",
       "        978.3595 ,  930.8827 ,  620.88336,  937.6782 ,  896.9303 ,\n",
       "        938.4985 ,  802.24805,  930.8827 ,  938.4985 ,  978.3595 ,\n",
       "        937.6782 ,  930.8827 ,  938.4985 ,  930.8827 ,  930.8827 ,\n",
       "        930.8827 ,  930.8827 ,  991.20856,  953.0973 ,  930.8827 ,\n",
       "        957.8991 ,  930.8827 ,  930.8827 ,  744.4875 ,  934.31647,\n",
       "        937.6782 ,  930.8827 ,  978.3595 ,  745.3076 ,  957.8991 ,\n",
       "        937.6782 ,  937.6782 ,  930.8827 ,  802.24805,  916.28375,\n",
       "        930.8827 , 1054.1819 ,  942.48004,  991.20856,  978.3595 ,\n",
       "        802.24805,  991.20856,  744.4875 ,  930.8827 ,  930.8827 ,\n",
       "        930.8827 ,  930.8827 ,  862.5739 ,  744.4875 ,  991.20856,\n",
       "        938.4985 ,  931.8419 ,  930.8827 ,  930.8827 ,  930.8827 ,\n",
       "        930.8827 ,  807.04987,  930.8827 ,  934.31647,  930.8827 ,\n",
       "        930.8827 ,  930.8827 ,  991.20856,  862.5739 ,  930.8827 ,\n",
       "        937.6782 ,  937.6782 ,  937.6782 ,  528.63806,  930.8827 ,\n",
       "        957.8991 ,  930.8827 ,  962.9404 ,  938.4985 ,  938.4985 ,\n",
       "        938.4985 ,  991.20856,  744.4875 ,  930.8827 ,  930.8827 ,\n",
       "        953.0973 ,  991.20856,  930.8827 ,  930.8827 ,  957.8991 ,\n",
       "        745.3076 ,  991.20856,  938.4985 ,  930.8827 ,  991.20856,\n",
       "        953.0973 ,  930.8827 ,  978.3595 ,  930.8827 ,  915.4636 ,\n",
       "        744.4875 ,  937.6782 ,  991.20856,  915.4636 ,  938.4985 ,\n",
       "        745.3076 ,  953.0973 ,  930.8827 ,  930.8827 ,  527.8178 ,\n",
       "        930.8827 ,  745.3076 ,  942.48004,  993.1228 ,  930.8827 ,\n",
       "        962.9404 ,  930.8827 ,  744.4875 ,  943.3003 ,  807.04987,\n",
       "        897.7504 ,  930.8827 ,  807.04987,  937.6782 ,  896.9303 ,\n",
       "        938.4985 ,  912.34937,  930.8827 ,  896.9303 ,  916.28375,\n",
       "        744.4875 ,  930.8827 ,  930.8827 ,  606.2844 ,  937.6782 ,\n",
       "        978.3595 ,  930.8827 ,  930.8827 , 1015.2885 ,  745.3076 ,\n",
       "        930.8827 ,  930.8827 ,  802.24805,  930.8827 ,  937.6782 ,\n",
       "        930.8827 ,  942.48004,  930.8827 ,  896.9303 ,  976.5714 ,\n",
       "        867.37573,  867.37573,  937.6782 ,  531.2516 ,  938.4985 ,\n",
       "        744.4875 ,  930.8827 ,  978.3595 ,  621.7035 ,  930.8827 ,\n",
       "        930.8827 ,  915.4636 ,  942.48004,  938.4985 ,  937.6782 ,\n",
       "        931.7028 ,  930.8827 ,  896.9303 ,  807.04987,  937.6782 ,\n",
       "        892.1285 ,  976.5714 ,  930.8827 ,  978.3595 ,  744.4875 ,\n",
       "        937.6782 ,  744.4875 ,  915.4636 ,  930.8827 ,  934.31647,\n",
       "        744.4875 ,  930.8827 ,  937.6782 ,  930.8827 ,  976.5714 ,\n",
       "        991.20856,  930.8827 ,  942.48004,  949.0798 ,  930.8827 ,\n",
       "        930.8827 ,  942.48004,  934.31647,  930.8827 ,  888.21985,\n",
       "        807.04987,  938.4985 ,  930.8827 ,  930.8827 ,  807.04987,\n",
       "        744.4875 ,  912.34937,  935.8236 ,  930.8827 ,  937.6782 ,\n",
       "        930.8827 ,  930.8827 ,  991.20856,  930.8827 ,  527.8178 ,\n",
       "        957.8991 ,  930.8827 ,  892.1285 ,  937.6782 ,  937.6782 ,\n",
       "        942.48004,  744.4875 ,  912.34937,  931.7028 ,  915.4636 ,\n",
       "        930.8827 ,  745.3076 ,  930.8827 ,  937.6782 ,  930.8827 ,\n",
       "        937.6782 ,  937.6782 ,  916.28375,  991.20856,  930.8827 ,\n",
       "        978.3595 ,  938.4985 ,  957.8991 ,  915.4636 ,  942.48004,\n",
       "        744.4875 ,  938.4985 ,  900.3641 ,  930.8827 ,  930.8827 ,\n",
       "        937.6782 ,  930.8827 ,  930.8827 ,  930.8827 ,  803.0682 ,\n",
       "        807.87   ,  934.31647,  930.8827 ,  888.21985,  912.34937,\n",
       "        937.6782 ,  930.8827 ,  620.88336,  953.0973 ,  916.28375,\n",
       "        930.8827 ], dtype=float32)"
      ]
     },
     "execution_count": 62,
     "metadata": {},
     "output_type": "execute_result"
    }
   ],
   "source": [
    "# data_matrix = xgb.DMatrix(data = X_tr, label = y_train)\n",
    "method = xgb.XGBRegressor()\n",
    "model = method.fit(X_train, y_train)\n",
    "model.predict(X_test)"
   ]
  },
  {
   "cell_type": "markdown",
   "metadata": {},
   "source": [
    "#### Ridge and lasso modelling"
   ]
  },
  {
   "cell_type": "code",
   "execution_count": null,
   "metadata": {},
   "outputs": [],
   "source": [
    "## Apply the scaler to the test set\n",
    "std = StandardScaler()\n",
    "X_tr_train = std.fit_transform(X_train)\n",
    "X_tr_test = std.fit_transform(X_test)\n",
    "\n",
    "continuous = X.iloc[: , :10]"
   ]
  },
  {
   "cell_type": "code",
   "execution_count": null,
   "metadata": {
    "ExecuteTime": {
     "end_time": "2020-04-24T22:52:28.233661Z",
     "start_time": "2020-04-24T22:52:16.575Z"
    }
   },
   "outputs": [],
   "source": [
    "## Fit a LASSO model on the standardized data\n",
    "\n",
    "lasso_model = Lasso(alpha = 100)\n",
    "lasso_model.fit(X_tr,y_train)\n",
    "\n",
    "## Note that now we can meaningful compare the importance of\n",
    "## different features, since they're on the same scale\n",
    "\n",
    "## But it's now difficult to interpret the coefficients\n",
    "## We would need to translate back to the original feature scales by dividing\n",
    "## each coefficient by the original column's standard deviation\n",
    "\n",
    "list(zip(X_train.columns, lasso_model.coef_))\n",
    "x = lasso_model.score(X_tr,y_train)\n",
    "print('lasso r^2 is ', x)\n",
    "#The coefficient R^2 is defined as (1 - u/v), where u is the residual sum of squares:\n",
    "#((y_true - y_pred) ** 2).sum() and v is the total sum of squares ((y_true - y_true.mean()) ** 2).sum()"
   ]
  },
  {
   "cell_type": "code",
   "execution_count": 35,
   "metadata": {
    "ExecuteTime": {
     "end_time": "2020-04-24T23:02:28.342687Z",
     "start_time": "2020-04-24T23:02:28.265819Z"
    }
   },
   "outputs": [
    {
     "ename": "ValueError",
     "evalue": "Pandas data cast to numpy dtype of object. Check input data with np.asarray(data).",
     "output_type": "error",
     "traceback": [
      "\u001b[0;31m---------------------------------------------------------------------------\u001b[0m",
      "\u001b[0;31mValueError\u001b[0m                                Traceback (most recent call last)",
      "\u001b[0;32m<ipython-input-35-c86a838fdd70>\u001b[0m in \u001b[0;36m<module>\u001b[0;34m\u001b[0m\n\u001b[1;32m     19\u001b[0m     \u001b[0mplt\u001b[0m\u001b[0;34m.\u001b[0m\u001b[0mtitle\u001b[0m\u001b[0;34m(\u001b[0m\u001b[0;34m\"Normal Q-Q plot\"\u001b[0m\u001b[0;34m)\u001b[0m\u001b[0;34m\u001b[0m\u001b[0;34m\u001b[0m\u001b[0m\n\u001b[1;32m     20\u001b[0m \u001b[0;34m\u001b[0m\u001b[0m\n\u001b[0;32m---> 21\u001b[0;31m \u001b[0mdiagnostic_plot\u001b[0m\u001b[0;34m(\u001b[0m\u001b[0my_train\u001b[0m\u001b[0;34m,\u001b[0m \u001b[0mX_train\u001b[0m\u001b[0;34m.\u001b[0m\u001b[0mvalues\u001b[0m\u001b[0;34m)\u001b[0m\u001b[0;34m\u001b[0m\u001b[0;34m\u001b[0m\u001b[0m\n\u001b[0m\u001b[1;32m     22\u001b[0m \u001b[0;34m\u001b[0m\u001b[0m\n\u001b[1;32m     23\u001b[0m \u001b[0;31m#try removing outliers in your quantiles\u001b[0m\u001b[0;34m\u001b[0m\u001b[0;34m\u001b[0m\u001b[0;34m\u001b[0m\u001b[0m\n",
      "\u001b[0;32m<ipython-input-35-c86a838fdd70>\u001b[0m in \u001b[0;36mdiagnostic_plot\u001b[0;34m(y, x)\u001b[0m\n\u001b[1;32m      2\u001b[0m     \u001b[0mplt\u001b[0m\u001b[0;34m.\u001b[0m\u001b[0mfigure\u001b[0m\u001b[0;34m(\u001b[0m\u001b[0mfigsize\u001b[0m\u001b[0;34m=\u001b[0m\u001b[0;34m(\u001b[0m\u001b[0;36m20\u001b[0m\u001b[0;34m,\u001b[0m\u001b[0;36m5\u001b[0m\u001b[0;34m)\u001b[0m\u001b[0;34m)\u001b[0m\u001b[0;34m\u001b[0m\u001b[0;34m\u001b[0m\u001b[0m\n\u001b[1;32m      3\u001b[0m \u001b[0;34m\u001b[0m\u001b[0m\n\u001b[0;32m----> 4\u001b[0;31m     \u001b[0mmodel\u001b[0m \u001b[0;34m=\u001b[0m \u001b[0msm\u001b[0m\u001b[0;34m.\u001b[0m\u001b[0mOLS\u001b[0m\u001b[0;34m(\u001b[0m\u001b[0my\u001b[0m\u001b[0;34m,\u001b[0m \u001b[0mx\u001b[0m\u001b[0;34m)\u001b[0m\u001b[0;34m\u001b[0m\u001b[0;34m\u001b[0m\u001b[0m\n\u001b[0m\u001b[1;32m      5\u001b[0m     \u001b[0mfit\u001b[0m \u001b[0;34m=\u001b[0m \u001b[0mmodel\u001b[0m\u001b[0;34m.\u001b[0m\u001b[0mfit\u001b[0m\u001b[0;34m(\u001b[0m\u001b[0;34m)\u001b[0m\u001b[0;34m\u001b[0m\u001b[0;34m\u001b[0m\u001b[0m\n\u001b[1;32m      6\u001b[0m     \u001b[0mpred\u001b[0m \u001b[0;34m=\u001b[0m \u001b[0mfit\u001b[0m\u001b[0;34m.\u001b[0m\u001b[0mpredict\u001b[0m\u001b[0;34m(\u001b[0m\u001b[0mx\u001b[0m\u001b[0;34m)\u001b[0m\u001b[0;34m\u001b[0m\u001b[0;34m\u001b[0m\u001b[0m\n",
      "\u001b[0;32m~/anaconda3/envs/metis/lib/python3.7/site-packages/statsmodels/regression/linear_model.py\u001b[0m in \u001b[0;36m__init__\u001b[0;34m(self, endog, exog, missing, hasconst, **kwargs)\u001b[0m\n\u001b[1;32m    836\u001b[0m                  **kwargs):\n\u001b[1;32m    837\u001b[0m         super(OLS, self).__init__(endog, exog, missing=missing,\n\u001b[0;32m--> 838\u001b[0;31m                                   hasconst=hasconst, **kwargs)\n\u001b[0m\u001b[1;32m    839\u001b[0m         \u001b[0;32mif\u001b[0m \u001b[0;34m\"weights\"\u001b[0m \u001b[0;32min\u001b[0m \u001b[0mself\u001b[0m\u001b[0;34m.\u001b[0m\u001b[0m_init_keys\u001b[0m\u001b[0;34m:\u001b[0m\u001b[0;34m\u001b[0m\u001b[0;34m\u001b[0m\u001b[0m\n\u001b[1;32m    840\u001b[0m             \u001b[0mself\u001b[0m\u001b[0;34m.\u001b[0m\u001b[0m_init_keys\u001b[0m\u001b[0;34m.\u001b[0m\u001b[0mremove\u001b[0m\u001b[0;34m(\u001b[0m\u001b[0;34m\"weights\"\u001b[0m\u001b[0;34m)\u001b[0m\u001b[0;34m\u001b[0m\u001b[0;34m\u001b[0m\u001b[0m\n",
      "\u001b[0;32m~/anaconda3/envs/metis/lib/python3.7/site-packages/statsmodels/regression/linear_model.py\u001b[0m in \u001b[0;36m__init__\u001b[0;34m(self, endog, exog, weights, missing, hasconst, **kwargs)\u001b[0m\n\u001b[1;32m    682\u001b[0m             \u001b[0mweights\u001b[0m \u001b[0;34m=\u001b[0m \u001b[0mweights\u001b[0m\u001b[0;34m.\u001b[0m\u001b[0msqueeze\u001b[0m\u001b[0;34m(\u001b[0m\u001b[0;34m)\u001b[0m\u001b[0;34m\u001b[0m\u001b[0;34m\u001b[0m\u001b[0m\n\u001b[1;32m    683\u001b[0m         super(WLS, self).__init__(endog, exog, missing=missing,\n\u001b[0;32m--> 684\u001b[0;31m                                   weights=weights, hasconst=hasconst, **kwargs)\n\u001b[0m\u001b[1;32m    685\u001b[0m         \u001b[0mnobs\u001b[0m \u001b[0;34m=\u001b[0m \u001b[0mself\u001b[0m\u001b[0;34m.\u001b[0m\u001b[0mexog\u001b[0m\u001b[0;34m.\u001b[0m\u001b[0mshape\u001b[0m\u001b[0;34m[\u001b[0m\u001b[0;36m0\u001b[0m\u001b[0;34m]\u001b[0m\u001b[0;34m\u001b[0m\u001b[0;34m\u001b[0m\u001b[0m\n\u001b[1;32m    686\u001b[0m         \u001b[0mweights\u001b[0m \u001b[0;34m=\u001b[0m \u001b[0mself\u001b[0m\u001b[0;34m.\u001b[0m\u001b[0mweights\u001b[0m\u001b[0;34m\u001b[0m\u001b[0;34m\u001b[0m\u001b[0m\n",
      "\u001b[0;32m~/anaconda3/envs/metis/lib/python3.7/site-packages/statsmodels/regression/linear_model.py\u001b[0m in \u001b[0;36m__init__\u001b[0;34m(self, endog, exog, **kwargs)\u001b[0m\n\u001b[1;32m    194\u001b[0m     \"\"\"\n\u001b[1;32m    195\u001b[0m     \u001b[0;32mdef\u001b[0m \u001b[0m__init__\u001b[0m\u001b[0;34m(\u001b[0m\u001b[0mself\u001b[0m\u001b[0;34m,\u001b[0m \u001b[0mendog\u001b[0m\u001b[0;34m,\u001b[0m \u001b[0mexog\u001b[0m\u001b[0;34m,\u001b[0m \u001b[0;34m**\u001b[0m\u001b[0mkwargs\u001b[0m\u001b[0;34m)\u001b[0m\u001b[0;34m:\u001b[0m\u001b[0;34m\u001b[0m\u001b[0;34m\u001b[0m\u001b[0m\n\u001b[0;32m--> 196\u001b[0;31m         \u001b[0msuper\u001b[0m\u001b[0;34m(\u001b[0m\u001b[0mRegressionModel\u001b[0m\u001b[0;34m,\u001b[0m \u001b[0mself\u001b[0m\u001b[0;34m)\u001b[0m\u001b[0;34m.\u001b[0m\u001b[0m__init__\u001b[0m\u001b[0;34m(\u001b[0m\u001b[0mendog\u001b[0m\u001b[0;34m,\u001b[0m \u001b[0mexog\u001b[0m\u001b[0;34m,\u001b[0m \u001b[0;34m**\u001b[0m\u001b[0mkwargs\u001b[0m\u001b[0;34m)\u001b[0m\u001b[0;34m\u001b[0m\u001b[0;34m\u001b[0m\u001b[0m\n\u001b[0m\u001b[1;32m    197\u001b[0m         \u001b[0mself\u001b[0m\u001b[0;34m.\u001b[0m\u001b[0m_data_attr\u001b[0m\u001b[0;34m.\u001b[0m\u001b[0mextend\u001b[0m\u001b[0;34m(\u001b[0m\u001b[0;34m[\u001b[0m\u001b[0;34m'pinv_wexog'\u001b[0m\u001b[0;34m,\u001b[0m \u001b[0;34m'wendog'\u001b[0m\u001b[0;34m,\u001b[0m \u001b[0;34m'wexog'\u001b[0m\u001b[0;34m,\u001b[0m \u001b[0;34m'weights'\u001b[0m\u001b[0;34m]\u001b[0m\u001b[0;34m)\u001b[0m\u001b[0;34m\u001b[0m\u001b[0;34m\u001b[0m\u001b[0m\n\u001b[1;32m    198\u001b[0m \u001b[0;34m\u001b[0m\u001b[0m\n",
      "\u001b[0;32m~/anaconda3/envs/metis/lib/python3.7/site-packages/statsmodels/base/model.py\u001b[0m in \u001b[0;36m__init__\u001b[0;34m(self, endog, exog, **kwargs)\u001b[0m\n\u001b[1;32m    214\u001b[0m \u001b[0;34m\u001b[0m\u001b[0m\n\u001b[1;32m    215\u001b[0m     \u001b[0;32mdef\u001b[0m \u001b[0m__init__\u001b[0m\u001b[0;34m(\u001b[0m\u001b[0mself\u001b[0m\u001b[0;34m,\u001b[0m \u001b[0mendog\u001b[0m\u001b[0;34m,\u001b[0m \u001b[0mexog\u001b[0m\u001b[0;34m=\u001b[0m\u001b[0;32mNone\u001b[0m\u001b[0;34m,\u001b[0m \u001b[0;34m**\u001b[0m\u001b[0mkwargs\u001b[0m\u001b[0;34m)\u001b[0m\u001b[0;34m:\u001b[0m\u001b[0;34m\u001b[0m\u001b[0;34m\u001b[0m\u001b[0m\n\u001b[0;32m--> 216\u001b[0;31m         \u001b[0msuper\u001b[0m\u001b[0;34m(\u001b[0m\u001b[0mLikelihoodModel\u001b[0m\u001b[0;34m,\u001b[0m \u001b[0mself\u001b[0m\u001b[0;34m)\u001b[0m\u001b[0;34m.\u001b[0m\u001b[0m__init__\u001b[0m\u001b[0;34m(\u001b[0m\u001b[0mendog\u001b[0m\u001b[0;34m,\u001b[0m \u001b[0mexog\u001b[0m\u001b[0;34m,\u001b[0m \u001b[0;34m**\u001b[0m\u001b[0mkwargs\u001b[0m\u001b[0;34m)\u001b[0m\u001b[0;34m\u001b[0m\u001b[0;34m\u001b[0m\u001b[0m\n\u001b[0m\u001b[1;32m    217\u001b[0m         \u001b[0mself\u001b[0m\u001b[0;34m.\u001b[0m\u001b[0minitialize\u001b[0m\u001b[0;34m(\u001b[0m\u001b[0;34m)\u001b[0m\u001b[0;34m\u001b[0m\u001b[0;34m\u001b[0m\u001b[0m\n\u001b[1;32m    218\u001b[0m \u001b[0;34m\u001b[0m\u001b[0m\n",
      "\u001b[0;32m~/anaconda3/envs/metis/lib/python3.7/site-packages/statsmodels/base/model.py\u001b[0m in \u001b[0;36m__init__\u001b[0;34m(self, endog, exog, **kwargs)\u001b[0m\n\u001b[1;32m     66\u001b[0m         \u001b[0mhasconst\u001b[0m \u001b[0;34m=\u001b[0m \u001b[0mkwargs\u001b[0m\u001b[0;34m.\u001b[0m\u001b[0mpop\u001b[0m\u001b[0;34m(\u001b[0m\u001b[0;34m'hasconst'\u001b[0m\u001b[0;34m,\u001b[0m \u001b[0;32mNone\u001b[0m\u001b[0;34m)\u001b[0m\u001b[0;34m\u001b[0m\u001b[0;34m\u001b[0m\u001b[0m\n\u001b[1;32m     67\u001b[0m         self.data = self._handle_data(endog, exog, missing, hasconst,\n\u001b[0;32m---> 68\u001b[0;31m                                       **kwargs)\n\u001b[0m\u001b[1;32m     69\u001b[0m         \u001b[0mself\u001b[0m\u001b[0;34m.\u001b[0m\u001b[0mk_constant\u001b[0m \u001b[0;34m=\u001b[0m \u001b[0mself\u001b[0m\u001b[0;34m.\u001b[0m\u001b[0mdata\u001b[0m\u001b[0;34m.\u001b[0m\u001b[0mk_constant\u001b[0m\u001b[0;34m\u001b[0m\u001b[0;34m\u001b[0m\u001b[0m\n\u001b[1;32m     70\u001b[0m         \u001b[0mself\u001b[0m\u001b[0;34m.\u001b[0m\u001b[0mexog\u001b[0m \u001b[0;34m=\u001b[0m \u001b[0mself\u001b[0m\u001b[0;34m.\u001b[0m\u001b[0mdata\u001b[0m\u001b[0;34m.\u001b[0m\u001b[0mexog\u001b[0m\u001b[0;34m\u001b[0m\u001b[0;34m\u001b[0m\u001b[0m\n",
      "\u001b[0;32m~/anaconda3/envs/metis/lib/python3.7/site-packages/statsmodels/base/model.py\u001b[0m in \u001b[0;36m_handle_data\u001b[0;34m(self, endog, exog, missing, hasconst, **kwargs)\u001b[0m\n\u001b[1;32m     89\u001b[0m \u001b[0;34m\u001b[0m\u001b[0m\n\u001b[1;32m     90\u001b[0m     \u001b[0;32mdef\u001b[0m \u001b[0m_handle_data\u001b[0m\u001b[0;34m(\u001b[0m\u001b[0mself\u001b[0m\u001b[0;34m,\u001b[0m \u001b[0mendog\u001b[0m\u001b[0;34m,\u001b[0m \u001b[0mexog\u001b[0m\u001b[0;34m,\u001b[0m \u001b[0mmissing\u001b[0m\u001b[0;34m,\u001b[0m \u001b[0mhasconst\u001b[0m\u001b[0;34m,\u001b[0m \u001b[0;34m**\u001b[0m\u001b[0mkwargs\u001b[0m\u001b[0;34m)\u001b[0m\u001b[0;34m:\u001b[0m\u001b[0;34m\u001b[0m\u001b[0;34m\u001b[0m\u001b[0m\n\u001b[0;32m---> 91\u001b[0;31m         \u001b[0mdata\u001b[0m \u001b[0;34m=\u001b[0m \u001b[0mhandle_data\u001b[0m\u001b[0;34m(\u001b[0m\u001b[0mendog\u001b[0m\u001b[0;34m,\u001b[0m \u001b[0mexog\u001b[0m\u001b[0;34m,\u001b[0m \u001b[0mmissing\u001b[0m\u001b[0;34m,\u001b[0m \u001b[0mhasconst\u001b[0m\u001b[0;34m,\u001b[0m \u001b[0;34m**\u001b[0m\u001b[0mkwargs\u001b[0m\u001b[0;34m)\u001b[0m\u001b[0;34m\u001b[0m\u001b[0;34m\u001b[0m\u001b[0m\n\u001b[0m\u001b[1;32m     92\u001b[0m         \u001b[0;31m# kwargs arrays could have changed, easier to just attach here\u001b[0m\u001b[0;34m\u001b[0m\u001b[0;34m\u001b[0m\u001b[0;34m\u001b[0m\u001b[0m\n\u001b[1;32m     93\u001b[0m         \u001b[0;32mfor\u001b[0m \u001b[0mkey\u001b[0m \u001b[0;32min\u001b[0m \u001b[0mkwargs\u001b[0m\u001b[0;34m:\u001b[0m\u001b[0;34m\u001b[0m\u001b[0;34m\u001b[0m\u001b[0m\n",
      "\u001b[0;32m~/anaconda3/envs/metis/lib/python3.7/site-packages/statsmodels/base/data.py\u001b[0m in \u001b[0;36mhandle_data\u001b[0;34m(endog, exog, missing, hasconst, **kwargs)\u001b[0m\n\u001b[1;32m    633\u001b[0m     \u001b[0mklass\u001b[0m \u001b[0;34m=\u001b[0m \u001b[0mhandle_data_class_factory\u001b[0m\u001b[0;34m(\u001b[0m\u001b[0mendog\u001b[0m\u001b[0;34m,\u001b[0m \u001b[0mexog\u001b[0m\u001b[0;34m)\u001b[0m\u001b[0;34m\u001b[0m\u001b[0;34m\u001b[0m\u001b[0m\n\u001b[1;32m    634\u001b[0m     return klass(endog, exog=exog, missing=missing, hasconst=hasconst,\n\u001b[0;32m--> 635\u001b[0;31m                  **kwargs)\n\u001b[0m",
      "\u001b[0;32m~/anaconda3/envs/metis/lib/python3.7/site-packages/statsmodels/base/data.py\u001b[0m in \u001b[0;36m__init__\u001b[0;34m(self, endog, exog, missing, hasconst, **kwargs)\u001b[0m\n\u001b[1;32m     74\u001b[0m             \u001b[0mself\u001b[0m\u001b[0;34m.\u001b[0m\u001b[0morig_endog\u001b[0m \u001b[0;34m=\u001b[0m \u001b[0mendog\u001b[0m\u001b[0;34m\u001b[0m\u001b[0;34m\u001b[0m\u001b[0m\n\u001b[1;32m     75\u001b[0m             \u001b[0mself\u001b[0m\u001b[0;34m.\u001b[0m\u001b[0morig_exog\u001b[0m \u001b[0;34m=\u001b[0m \u001b[0mexog\u001b[0m\u001b[0;34m\u001b[0m\u001b[0;34m\u001b[0m\u001b[0m\n\u001b[0;32m---> 76\u001b[0;31m             \u001b[0mself\u001b[0m\u001b[0;34m.\u001b[0m\u001b[0mendog\u001b[0m\u001b[0;34m,\u001b[0m \u001b[0mself\u001b[0m\u001b[0;34m.\u001b[0m\u001b[0mexog\u001b[0m \u001b[0;34m=\u001b[0m \u001b[0mself\u001b[0m\u001b[0;34m.\u001b[0m\u001b[0m_convert_endog_exog\u001b[0m\u001b[0;34m(\u001b[0m\u001b[0mendog\u001b[0m\u001b[0;34m,\u001b[0m \u001b[0mexog\u001b[0m\u001b[0;34m)\u001b[0m\u001b[0;34m\u001b[0m\u001b[0;34m\u001b[0m\u001b[0m\n\u001b[0m\u001b[1;32m     77\u001b[0m \u001b[0;34m\u001b[0m\u001b[0m\n\u001b[1;32m     78\u001b[0m         \u001b[0mself\u001b[0m\u001b[0;34m.\u001b[0m\u001b[0mconst_idx\u001b[0m \u001b[0;34m=\u001b[0m \u001b[0;32mNone\u001b[0m\u001b[0;34m\u001b[0m\u001b[0;34m\u001b[0m\u001b[0m\n",
      "\u001b[0;32m~/anaconda3/envs/metis/lib/python3.7/site-packages/statsmodels/base/data.py\u001b[0m in \u001b[0;36m_convert_endog_exog\u001b[0;34m(self, endog, exog)\u001b[0m\n\u001b[1;32m    473\u001b[0m         \u001b[0mexog\u001b[0m \u001b[0;34m=\u001b[0m \u001b[0mexog\u001b[0m \u001b[0;32mif\u001b[0m \u001b[0mexog\u001b[0m \u001b[0;32mis\u001b[0m \u001b[0;32mNone\u001b[0m \u001b[0;32melse\u001b[0m \u001b[0mnp\u001b[0m\u001b[0;34m.\u001b[0m\u001b[0masarray\u001b[0m\u001b[0;34m(\u001b[0m\u001b[0mexog\u001b[0m\u001b[0;34m)\u001b[0m\u001b[0;34m\u001b[0m\u001b[0;34m\u001b[0m\u001b[0m\n\u001b[1;32m    474\u001b[0m         \u001b[0;32mif\u001b[0m \u001b[0mendog\u001b[0m\u001b[0;34m.\u001b[0m\u001b[0mdtype\u001b[0m \u001b[0;34m==\u001b[0m \u001b[0mobject\u001b[0m \u001b[0;32mor\u001b[0m \u001b[0mexog\u001b[0m \u001b[0;32mis\u001b[0m \u001b[0;32mnot\u001b[0m \u001b[0;32mNone\u001b[0m \u001b[0;32mand\u001b[0m \u001b[0mexog\u001b[0m\u001b[0;34m.\u001b[0m\u001b[0mdtype\u001b[0m \u001b[0;34m==\u001b[0m \u001b[0mobject\u001b[0m\u001b[0;34m:\u001b[0m\u001b[0;34m\u001b[0m\u001b[0;34m\u001b[0m\u001b[0m\n\u001b[0;32m--> 475\u001b[0;31m             raise ValueError(\"Pandas data cast to numpy dtype of object. \"\n\u001b[0m\u001b[1;32m    476\u001b[0m                              \"Check input data with np.asarray(data).\")\n\u001b[1;32m    477\u001b[0m         \u001b[0;32mreturn\u001b[0m \u001b[0msuper\u001b[0m\u001b[0;34m(\u001b[0m\u001b[0mPandasData\u001b[0m\u001b[0;34m,\u001b[0m \u001b[0mself\u001b[0m\u001b[0;34m)\u001b[0m\u001b[0;34m.\u001b[0m\u001b[0m_convert_endog_exog\u001b[0m\u001b[0;34m(\u001b[0m\u001b[0mendog\u001b[0m\u001b[0;34m,\u001b[0m \u001b[0mexog\u001b[0m\u001b[0;34m)\u001b[0m\u001b[0;34m\u001b[0m\u001b[0;34m\u001b[0m\u001b[0m\n",
      "\u001b[0;31mValueError\u001b[0m: Pandas data cast to numpy dtype of object. Check input data with np.asarray(data)."
     ]
    },
    {
     "data": {
      "text/plain": [
       "<Figure size 1440x360 with 0 Axes>"
      ]
     },
     "metadata": {},
     "output_type": "display_data"
    }
   ],
   "source": [
    "def diagnostic_plot(y, x):\n",
    "    plt.figure(figsize=(20,5))\n",
    "    \n",
    "    model = sm.OLS(y, x)\n",
    "    fit = model.fit()\n",
    "    pred = fit.predict(x)\n",
    "    residuals = y - pred\n",
    "\n",
    "    plt.subplot(1, 2, 1)\n",
    "    plt.scatter(residuals, pred)\n",
    "    plt.title(\"Residual plot\")\n",
    "    plt.xlabel(\"prediction\")\n",
    "    plt.ylabel(\"residuals\")\n",
    "    \n",
    "    plt.subplot(1, 2, 2)\n",
    "    #Generates a probability plot of sample data against the quantiles of a \n",
    "    # specified theoretical distribution \n",
    "    stats.probplot(residuals, dist=\"norm\", plot=plt)\n",
    "    plt.title(\"Normal Q-Q plot\")\n",
    "\n",
    "diagnostic_plot(y_train, X_train.values)\n",
    "\n",
    "#try removing outliers in your quantiles\n",
    "#also got your axes mixed up\n",
    "#perhaps there's a categorical variable"
   ]
  },
  {
   "cell_type": "code",
   "execution_count": null,
   "metadata": {
    "ExecuteTime": {
     "end_time": "2020-04-24T22:52:28.236380Z",
     "start_time": "2020-04-24T22:52:16.582Z"
    }
   },
   "outputs": [],
   "source": [
    "## Fit a ridge model on the standardized data\n",
    "lr_model_ridge = Ridge(alpha = 1000)\n",
    "lr_model_ridge.fit(X_tr,y_train)\n",
    "\n",
    "x = lr_model_ridge.score(X_tr,y_train)\n",
    "print('ridge r^2 is ', x)\n",
    "\n",
    "list(zip(X_train.columns, lr_model_ridge.coef_))"
   ]
  },
  {
   "cell_type": "code",
   "execution_count": null,
   "metadata": {
    "ExecuteTime": {
     "end_time": "2020-04-24T22:52:28.237938Z",
     "start_time": "2020-04-24T22:52:16.588Z"
    }
   },
   "outputs": [],
   "source": [
    "#Mean Absolute Error (MAE)\n",
    "def mae(y_true, y_pred):\n",
    "    return np.mean(np.abs(y_pred - y_true)) \n",
    "\n",
    "alphalist = 10**(np.linspace(-2,2,200))\n",
    "err_vec_val = np.zeros(len(alphalist))\n",
    "err_vec_train = np.zeros(len(alphalist))\n",
    "\n",
    "for i,curr_alpha in enumerate(alphalist):\n",
    "\n",
    "    # note the use of a new sklearn utility: Pipeline to pack\n",
    "    # multiple modeling steps into one fitting process \n",
    "    steps = [('standardize', StandardScaler()), \n",
    "             ('lasso', Lasso(alpha = curr_alpha))]\n",
    "\n",
    "    pipe = Pipeline(steps)\n",
    "    pipe.fit(X_train.loc[:,x_cols].values, y_train)\n",
    "    \n",
    "    val_set_pred = pipe.predict(X_val.loc[:,x_cols].values)\n",
    "    err_vec_val[i] = mae(y_val, val_set_pred)"
   ]
  },
  {
   "cell_type": "code",
   "execution_count": null,
   "metadata": {
    "ExecuteTime": {
     "end_time": "2020-04-24T22:52:28.239720Z",
     "start_time": "2020-04-24T22:52:16.593Z"
    }
   },
   "outputs": [],
   "source": [
    "plt.plot(np.log10(alphalist), err_vec_val)"
   ]
  },
  {
   "cell_type": "code",
   "execution_count": null,
   "metadata": {
    "ExecuteTime": {
     "end_time": "2020-04-24T22:52:28.241969Z",
     "start_time": "2020-04-24T22:52:16.600Z"
    }
   },
   "outputs": [],
   "source": [
    "## This is the minimum error achieved on the validation set \n",
    "## across the different alpha values we tried\n",
    "\n",
    "np.min(err_vec_val)"
   ]
  },
  {
   "cell_type": "code",
   "execution_count": null,
   "metadata": {
    "ExecuteTime": {
     "end_time": "2020-04-24T22:52:28.245228Z",
     "start_time": "2020-04-24T22:52:16.607Z"
    }
   },
   "outputs": [],
   "source": [
    "#assumption testing\n",
    "from sklearn.metrics import r2_score\n",
    "\n",
    "#Assumption: regression is linear in parameters and correctly specified"
   ]
  },
  {
   "cell_type": "code",
   "execution_count": null,
   "metadata": {
    "ExecuteTime": {
     "end_time": "2020-04-24T22:52:28.246812Z",
     "start_time": "2020-04-24T22:52:16.613Z"
    }
   },
   "outputs": [],
   "source": [
    "model = sm.OLS(y_train, X_train)\n",
    "fit = model.fit()\n",
    "test_set_pred = fit.predict(X_test)\n",
    "\n",
    "plt.figure(figsize=(10,4))\n",
    "plt.scatter(y_test, test_set_pred, alpha= .3)\n",
    "# plt.plot(np.linspace(0,10000000,100), np.linspace(0,10000000,100))\n",
    "# plt.ylim(0, 50)\n",
    "# plt.xlim(0, 50)\n",
    "print('r2 score is:', r2_score(y_test, test_set_pred))\n",
    "print('mean absolute error(MAE) is:', mae(y_test, test_set_pred))\n",
    "plt.xlabel('Predicted Price', fontsize = 15, fontname = 'Helvetica', fontweight = 'bold')\n",
    "plt.ylabel('Actual Price', fontsize = 15, fontname = 'Arial', \n",
    "           fontweight = 'bold')"
   ]
  },
  {
   "cell_type": "markdown",
   "metadata": {},
   "source": [
    "## visualizations"
   ]
  },
  {
   "cell_type": "code",
   "execution_count": null,
   "metadata": {
    "ExecuteTime": {
     "end_time": "2020-04-24T22:52:28.248601Z",
     "start_time": "2020-04-24T22:52:16.621Z"
    }
   },
   "outputs": [],
   "source": [
    "ax = plt.subplots(figsize = (60,30)) #to change the area of your subplots\n",
    "\n",
    "forgraph = coreframe[pd.notna(coreframe['zipnames']) & (coreframe['zipnames'] != 'North Beach/Chinatown')]\n",
    "\n",
    "ax = sns.boxplot(x = 'zipnames', y = 'price/psf', data = forgraph, \\\n",
    "                 showfliers = False)\n",
    "\n",
    "plt.xticks(rotation=45, fontname = 'Helvetica', fontsize = 55, ha = 'right')\n",
    "plt.yticks(fontname = 'Helvetica', fontsize = 42)\n",
    "\n",
    "plt.xlabel('San Francisco neighborhood', fontsize = 55, fontname = 'Helvetica', fontweight = 'bold')\n",
    "plt.ylabel('price/psf ($)', fontsize = 55, fontname = 'Arial', \n",
    "           fontweight = 'bold')\n",
    "plt.annotate\n",
    "scale = 1000; ax.set_ylim(0, 2200); ax.yaxis.labelpad = 25"
   ]
  },
  {
   "cell_type": "code",
   "execution_count": null,
   "metadata": {
    "ExecuteTime": {
     "end_time": "2020-04-24T22:52:28.250460Z",
     "start_time": "2020-04-24T22:52:16.627Z"
    }
   },
   "outputs": [],
   "source": [
    "x_cols = ['SQUARE FEET', 'YEAR BUILT', 'shortesttime', 'BEDS', 'BATHS']\n",
    "X = coreframe[x_cols]\n",
    "y = coreframe['PRICE']\n",
    "\n",
    "model = sm.OLS(y, X)\n",
    "fit = model.fit()\n",
    "fit.summary()\n",
    "\n",
    "test_set_pred = fit.predict(X)\n",
    "\n",
    "coreframe['differential'] = y - fit.predict(X)\n",
    "\n",
    "\n",
    "coreframe.to_csv('studyopportunities.csv')"
   ]
  },
  {
   "cell_type": "code",
   "execution_count": null,
   "metadata": {},
   "outputs": [],
   "source": []
  }
 ],
 "metadata": {
  "kernelspec": {
   "display_name": "Python [conda env:metis] *",
   "language": "python",
   "name": "conda-env-metis-py"
  },
  "language_info": {
   "codemirror_mode": {
    "name": "ipython",
    "version": 3
   },
   "file_extension": ".py",
   "mimetype": "text/x-python",
   "name": "python",
   "nbconvert_exporter": "python",
   "pygments_lexer": "ipython3",
   "version": "3.7.4"
  },
  "toc": {
   "base_numbering": 1,
   "nav_menu": {},
   "number_sections": false,
   "sideBar": true,
   "skip_h1_title": false,
   "title_cell": "Table of Contents",
   "title_sidebar": "Contents",
   "toc_cell": false,
   "toc_position": {},
   "toc_section_display": true,
   "toc_window_display": false
  }
 },
 "nbformat": 4,
 "nbformat_minor": 4
}
