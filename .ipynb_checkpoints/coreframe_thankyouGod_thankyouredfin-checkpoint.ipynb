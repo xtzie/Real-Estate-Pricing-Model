{
 "cells": [
  {
   "cell_type": "code",
   "execution_count": 1,
   "metadata": {
    "ExecuteTime": {
     "end_time": "2019-11-27T22:13:59.707412Z",
     "start_time": "2019-11-27T22:13:59.687Z"
    }
   },
   "outputs": [],
   "source": [
    "## importing libraries\n",
    "from bs4 import BeautifulSoup\n",
    "import requests\n",
    "from selenium import webdriver\n",
    "from selenium.webdriver.common.keys import Keys\n",
    "import requests\n",
    "import time, os\n",
    "import pandas as pd\n",
    "from collections import OrderedDict\n",
    "import pickle"
   ]
  },
  {
   "cell_type": "code",
   "execution_count": 44,
   "metadata": {},
   "outputs": [
    {
     "name": "stdout",
     "output_type": "stream",
     "text": [
      "menlopark.csv merged\n",
      "redwood_city.csv merged\n",
      "SF_city.csv merged\n",
      "berkeley.csv merged\n",
      "oakland.csv merged\n",
      "san_leandro.csv merged\n",
      "richmond.csv merged\n",
      "union_city.csv merged\n",
      "sanjose.csv merged\n",
      "sanmateo_city.csv merged\n",
      "Fremont.csv merged\n",
      "Sunnyvale.csv merged\n",
      "orinda.csv merged\n",
      "belmont.csv merged\n",
      "hayward.csv merged\n"
     ]
    }
   ],
   "source": [
    "# merging Redfin downloads\n",
    "directory = '/home/xtzie/Desktop/project2/housingdata/'\n",
    "\n",
    "coreframe = pd.read_csv('/home/xtzie/Desktop/project2/housingdata/SF_city.csv')\n",
    "\n",
    "\n",
    "def intconvert(whatever):\n",
    "    try:\n",
    "        return int(whatever)\n",
    "    except:\n",
    "        #nested try excepts are possible\n",
    "        try:\n",
    "            return int(whatever[:4])\n",
    "        except:\n",
    "            return 0\n",
    "\n",
    "#loops through all files in the directory\n",
    "for file in os.listdir(directory):\n",
    "    try:\n",
    "        filename = directory + file\n",
    "        file2merge = pd.read_csv(filename)\n",
    "        #'ZIP OR POSTAL CODE' has string (e.g '910293-18201') values. line below converts them to integer or zero\n",
    "        file2merge['ZIP OR POSTAL CODE'] = file2merge['ZIP OR POSTAL CODE'].map(lambda x: intconvert(x))\n",
    "        coreframe = coreframe.merge(file2merge, how = 'outer')\n",
    "        print(file, 'merged')\n",
    "    except:\n",
    "        print(file, 'xxxx has failed to merge')\n",
    "coreframe['mergekey'] = [str(x) + \"x\"+ str(t) + \"x\"+str(z) + \"x\"for x,t,z in zip(coreframe['PRICE'], coreframe['LONGITUDE'], coreframe['LATITUDE'])]\n",
    "\n",
    "coreframe.to_csv('uncleanedcoreframe.csv')\n",
    "\n",
    "#i think on = 'whatever' defines the column you will use to merge #still no idea how the key works!\n",
    "#outer looks at union - only when there are no overlaps | inner when there is intersection, overlap\n",
    "\n",
    "#create mergekey using 'ADDRESS' 'ZIP OR POSTAL CODE' 'PRICE' columns\n",
    "#zip function to bind the above columns in a list, list comprehension to iterate through\n",
    "#integers cannot be read as strings, so str() function has to be applied first\n"
   ]
  },
  {
   "cell_type": "code",
   "execution_count": 4,
   "metadata": {},
   "outputs": [],
   "source": [
    "## create zipcode list\n",
    "\n",
    "zipcodes = list(coreframe['ZIP OR POSTAL CODE'].unique())\n",
    "\n",
    "##create zipcode file\n",
    "#open can take in arg 'a' or 'w' 'w' will overwrite, 'a' will append. a will also create new file if doesn't exist\n",
    "#so safest to always use 'a'\n",
    "#'w' can be used if you are testing and doing multiple iterations\n",
    "file = open('zipcodelist.csv', 'w')\n",
    "\n",
    "for codenum in zipcodes:\n",
    "    file.write(str(codenum))\n",
    "    file.write('\\n') #better to write to newline, if write with ',' pandas will parse as a column\n",
    "                     #and return an empty data frame with many columns\n",
    "file.close()"
   ]
  },
  {
   "cell_type": "code",
   "execution_count": 21,
   "metadata": {},
   "outputs": [],
   "source": [
    "#zipcode manipulation\n",
    "traveltimes = pd.read_csv('shortesttimes.csv')\n",
    "coreframe = coreframe.merge(traveltimes, on = 'ZIP OR POSTAL CODE', how = 'outer')\n",
    "\n",
    "coreframe.to_csv('DATASCAN!.csv')\n",
    "\n",
    "###not needed but useful to learn\n",
    "# orinda1 = pd.read_csv('/home/xtzie/Downloads/orinda (another copy).csv')\n",
    "\n",
    "# orinda2 = pd.read_csv('/home/xtzie/Downloads/orinda (copy).csv')\n",
    "\n",
    "# orinda1.merge(orinda2, how = 'outer')\n",
    "\n",
    "#i think on = 'whatever' defines the column you will use to merge #still no idea how the key works!\n",
    "#outer looks at union - only when there are no overlaps | inner when there is intersection, overlap\n",
    "\n",
    "#create mergekey using 'ADDRESS' 'ZIP OR POSTAL CODE' 'PRICE' columns\n",
    "#zip function to bind the above columns in a list, list comprehension to iterate through\n",
    "#integers cannot be read as strings, so str() function has to be applied first\n",
    "# coreframe['mergekey'] = [str(x) + \"x\" +str(t) + \"x\" +str(z) for x,t,z in\\\n",
    "#                          zip(coreframe['ADDRESS'], coreframe['ZIP OR POSTAL CODE'], coreframe['PRICE'])]"
   ]
  },
  {
   "cell_type": "code",
   "execution_count": 12,
   "metadata": {},
   "outputs": [
    {
     "name": "stdout",
     "output_type": "stream",
     "text": [
      "\n",
      "Validation R^2 score was: 0.45552576066012496\n",
      "Feature coefficient results: \n",
      "\n",
      "SQUARE FEET : 664.52\n",
      "YEAR BUILT : -1357.40\n"
     ]
    },
    {
     "data": {
      "text/html": [
       "<table class=\"simpletable\">\n",
       "<caption>OLS Regression Results</caption>\n",
       "<tr>\n",
       "  <th>Dep. Variable:</th>          <td>PRICE</td>      <th>  R-squared (uncentered):</th>      <td>   0.702</td> \n",
       "</tr>\n",
       "<tr>\n",
       "  <th>Model:</th>                   <td>OLS</td>       <th>  Adj. R-squared (uncentered):</th> <td>   0.702</td> \n",
       "</tr>\n",
       "<tr>\n",
       "  <th>Method:</th>             <td>Least Squares</td>  <th>  F-statistic:       </th>          <td>   1881.</td> \n",
       "</tr>\n",
       "<tr>\n",
       "  <th>Date:</th>             <td>Thu, 23 Jan 2020</td> <th>  Prob (F-statistic):</th>           <td>  0.00</td>  \n",
       "</tr>\n",
       "<tr>\n",
       "  <th>Time:</th>                 <td>17:21:36</td>     <th>  Log-Likelihood:    </th>          <td> -24705.</td> \n",
       "</tr>\n",
       "<tr>\n",
       "  <th>No. Observations:</th>      <td>  1596</td>      <th>  AIC:               </th>          <td>4.941e+04</td>\n",
       "</tr>\n",
       "<tr>\n",
       "  <th>Df Residuals:</th>          <td>  1594</td>      <th>  BIC:               </th>          <td>4.942e+04</td>\n",
       "</tr>\n",
       "<tr>\n",
       "  <th>Df Model:</th>              <td>     2</td>      <th>                     </th>              <td> </td>    \n",
       "</tr>\n",
       "<tr>\n",
       "  <th>Covariance Type:</th>      <td>nonrobust</td>    <th>                     </th>              <td> </td>    \n",
       "</tr>\n",
       "</table>\n",
       "<table class=\"simpletable\">\n",
       "<tr>\n",
       "       <td></td>          <th>coef</th>     <th>std err</th>      <th>t</th>      <th>P>|t|</th>  <th>[0.025</th>    <th>0.975]</th>  \n",
       "</tr>\n",
       "<tr>\n",
       "  <th>SQUARE FEET</th> <td>  760.0596</td> <td>   18.386</td> <td>   41.339</td> <td> 0.000</td> <td>  723.996</td> <td>  796.123</td>\n",
       "</tr>\n",
       "<tr>\n",
       "  <th>YEAR BUILT</th>  <td>  -48.9815</td> <td>   24.979</td> <td>   -1.961</td> <td> 0.050</td> <td>  -97.977</td> <td>    0.014</td>\n",
       "</tr>\n",
       "</table>\n",
       "<table class=\"simpletable\">\n",
       "<tr>\n",
       "  <th>Omnibus:</th>       <td>2071.157</td> <th>  Durbin-Watson:     </th>  <td>   1.742</td> \n",
       "</tr>\n",
       "<tr>\n",
       "  <th>Prob(Omnibus):</th>  <td> 0.000</td>  <th>  Jarque-Bera (JB):  </th> <td>525275.554</td>\n",
       "</tr>\n",
       "<tr>\n",
       "  <th>Skew:</th>           <td> 6.833</td>  <th>  Prob(JB):          </th>  <td>    0.00</td> \n",
       "</tr>\n",
       "<tr>\n",
       "  <th>Kurtosis:</th>       <td>90.819</td>  <th>  Cond. No.          </th>  <td>    2.87</td> \n",
       "</tr>\n",
       "</table><br/><br/>Warnings:<br/>[1] Standard Errors assume that the covariance matrix of the errors is correctly specified."
      ],
      "text/plain": [
       "<class 'statsmodels.iolib.summary.Summary'>\n",
       "\"\"\"\n",
       "                                 OLS Regression Results                                \n",
       "=======================================================================================\n",
       "Dep. Variable:                  PRICE   R-squared (uncentered):                   0.702\n",
       "Model:                            OLS   Adj. R-squared (uncentered):              0.702\n",
       "Method:                 Least Squares   F-statistic:                              1881.\n",
       "Date:                Thu, 23 Jan 2020   Prob (F-statistic):                        0.00\n",
       "Time:                        17:21:36   Log-Likelihood:                         -24705.\n",
       "No. Observations:                1596   AIC:                                  4.941e+04\n",
       "Df Residuals:                    1594   BIC:                                  4.942e+04\n",
       "Df Model:                           2                                                  \n",
       "Covariance Type:            nonrobust                                                  \n",
       "===============================================================================\n",
       "                  coef    std err          t      P>|t|      [0.025      0.975]\n",
       "-------------------------------------------------------------------------------\n",
       "SQUARE FEET   760.0596     18.386     41.339      0.000     723.996     796.123\n",
       "YEAR BUILT    -48.9815     24.979     -1.961      0.050     -97.977       0.014\n",
       "==============================================================================\n",
       "Omnibus:                     2071.157   Durbin-Watson:                   1.742\n",
       "Prob(Omnibus):                  0.000   Jarque-Bera (JB):           525275.554\n",
       "Skew:                           6.833   Prob(JB):                         0.00\n",
       "Kurtosis:                      90.819   Cond. No.                         2.87\n",
       "==============================================================================\n",
       "\n",
       "Warnings:\n",
       "[1] Standard Errors assume that the covariance matrix of the errors is correctly specified.\n",
       "\"\"\""
      ]
     },
     "execution_count": 12,
     "metadata": {},
     "output_type": "execute_result"
    }
   ],
   "source": [
    "#final step\n",
    "with open('coreframe','wb') as useless:\n",
    "    pickle.dump(coreframe, useless)"
   ]
  },
  {
   "cell_type": "code",
   "execution_count": null,
   "metadata": {
    "ExecuteTime": {
     "end_time": "2019-11-27T22:14:00.125966Z",
     "start_time": "2019-11-27T22:13:59.935Z"
    }
   },
   "outputs": [],
   "source": []
  },
  {
   "cell_type": "code",
   "execution_count": null,
   "metadata": {},
   "outputs": [],
   "source": []
  }
 ],
 "metadata": {
  "kernelspec": {
   "display_name": "Python [conda env:metis] *",
   "language": "python",
   "name": "conda-env-metis-py"
  },
  "language_info": {
   "codemirror_mode": {
    "name": "ipython",
    "version": 3
   },
   "file_extension": ".py",
   "mimetype": "text/x-python",
   "name": "python",
   "nbconvert_exporter": "python",
   "pygments_lexer": "ipython3",
   "version": "3.7.4"
  }
 },
 "nbformat": 4,
 "nbformat_minor": 2
}
