{
 "cells": [
  {
   "cell_type": "markdown",
   "metadata": {
    "heading_collapsed": true
   },
   "source": [
    "#### import libraries"
   ]
  },
  {
   "cell_type": "code",
   "execution_count": 3,
   "metadata": {
    "ExecuteTime": {
     "end_time": "2020-04-19T14:08:16.895193Z",
     "start_time": "2020-04-19T14:08:16.885742Z"
    },
    "hidden": true
   },
   "outputs": [],
   "source": [
    "from bs4 import BeautifulSoup\n",
    "import requests\n",
    "\n",
    "from selenium import webdriver\n",
    "from selenium.webdriver.common.keys import Keys\n",
    "import requests\n",
    "import time, os\n",
    "\n",
    "import pandas as pd\n",
    "from collections import OrderedDict\n",
    "import pickle\n",
    "import numpy as np\n",
    "import re\n",
    "\n",
    "import requests"
   ]
  },
  {
   "cell_type": "markdown",
   "metadata": {
    "heading_collapsed": true
   },
   "source": [
    "#### URL generator"
   ]
  },
  {
   "cell_type": "code",
   "execution_count": 4,
   "metadata": {
    "ExecuteTime": {
     "end_time": "2020-04-19T14:08:32.187289Z",
     "start_time": "2020-04-19T14:08:32.162539Z"
    },
    "hidden": true
   },
   "outputs": [],
   "source": [
    "df = pd.read_csv('zipcodelist(fromlistings).csv', header = None)\n",
    "df.columns = ['zipcode']\n",
    "\n",
    "df.replace(0, np.nan, inplace = True)\n",
    "df.dropna(axis = 0, inplace = True)\n",
    "\n",
    "#note: because pandas is a stupid piece of sh**, you must input the line below.\n",
    "df = df.reset_index(drop=True)\n",
    "#note: because pandas is a stupid piece of sh**, you must input the line above.\n",
    "\n",
    "#refer to: https://stackoverflow.com/questions/33165734/update-index-after-sorting-data-frame\n",
    "\n",
    "df['zipcode'] = df['zipcode'].astype(int)\n",
    "\n",
    "df['salesforceurl'] = ''\n",
    "df['googleplexurl'] = ''\n",
    "df['stanfordurl'] = ''\n",
    "df['incomebyzipcodeurl'] = ''\n",
    "df['walkscoreurl'] = ''"
   ]
  },
  {
   "cell_type": "code",
   "execution_count": 5,
   "metadata": {
    "ExecuteTime": {
     "end_time": "2020-04-19T14:08:34.840937Z",
     "start_time": "2020-04-19T14:08:34.744827Z"
    },
    "hidden": true
   },
   "outputs": [
    {
     "name": "stderr",
     "output_type": "stream",
     "text": [
      "/home/xtzie/anaconda3/envs/metis/lib/python3.7/site-packages/ipykernel_launcher.py:4: SettingWithCopyWarning: \n",
      "A value is trying to be set on a copy of a slice from a DataFrame\n",
      "\n",
      "See the caveats in the documentation: http://pandas.pydata.org/pandas-docs/stable/user_guide/indexing.html#returning-a-view-versus-a-copy\n",
      "  after removing the cwd from sys.path.\n",
      "/home/xtzie/anaconda3/envs/metis/lib/python3.7/site-packages/ipykernel_launcher.py:7: SettingWithCopyWarning: \n",
      "A value is trying to be set on a copy of a slice from a DataFrame\n",
      "\n",
      "See the caveats in the documentation: http://pandas.pydata.org/pandas-docs/stable/user_guide/indexing.html#returning-a-view-versus-a-copy\n",
      "  import sys\n",
      "/home/xtzie/anaconda3/envs/metis/lib/python3.7/site-packages/ipykernel_launcher.py:10: SettingWithCopyWarning: \n",
      "A value is trying to be set on a copy of a slice from a DataFrame\n",
      "\n",
      "See the caveats in the documentation: http://pandas.pydata.org/pandas-docs/stable/user_guide/indexing.html#returning-a-view-versus-a-copy\n",
      "  # Remove the CWD from sys.path while we load stuff.\n",
      "/home/xtzie/anaconda3/envs/metis/lib/python3.7/site-packages/ipykernel_launcher.py:13: SettingWithCopyWarning: \n",
      "A value is trying to be set on a copy of a slice from a DataFrame\n",
      "\n",
      "See the caveats in the documentation: http://pandas.pydata.org/pandas-docs/stable/user_guide/indexing.html#returning-a-view-versus-a-copy\n",
      "  del sys.path[0]\n",
      "/home/xtzie/anaconda3/envs/metis/lib/python3.7/site-packages/ipykernel_launcher.py:16: SettingWithCopyWarning: \n",
      "A value is trying to be set on a copy of a slice from a DataFrame\n",
      "\n",
      "See the caveats in the documentation: http://pandas.pydata.org/pandas-docs/stable/user_guide/indexing.html#returning-a-view-versus-a-copy\n",
      "  app.launch_new_instance()\n"
     ]
    }
   ],
   "source": [
    "for index, zipcode in enumerate(df['zipcode']):\n",
    "    \n",
    "    income = 'https://www.incomebyzipcode.com/california/' + str(zipcode)\n",
    "    df['incomebyzipcodeurl'][index] = income\n",
    "\n",
    "    slsfrce = 'https://www.google.com/maps/dir/' + str(zipcode) + '/Salesforce+Tower,+415+Mission+St,+San+Francisco,+CA+94105/'\n",
    "    df['salesforceurl'][index] = slsfrce\n",
    "\n",
    "    ggleplx = 'https://www.google.com/maps/dir/' + str(zipcode) + '/Googleplex,+1600+Amphitheatre+Pkwy,+Mountain+View,+CA+94043/'\n",
    "    df['googleplexurl'][index] = ggleplx\n",
    "\n",
    "    stanford = 'https://www.google.com/maps/dir/' + str(zipcode) + '/Stanford+University,+450+Serra+Mall,+Stanford,+CA+94305/'\n",
    "    df['stanfordurl'][index] = stanford\n",
    "\n",
    "    wlkxcore = 'https://www.walkscore.com/CA/' + str(zipcode)\n",
    "    df['walkscoreurl'][index] = wlkxcore"
   ]
  },
  {
   "cell_type": "markdown",
   "metadata": {
    "heading_collapsed": true
   },
   "source": [
    "#### webscraper (travel times)"
   ]
  },
  {
   "cell_type": "code",
   "execution_count": 6,
   "metadata": {
    "ExecuteTime": {
     "end_time": "2020-04-19T14:08:51.162035Z",
     "start_time": "2020-04-19T14:08:51.139592Z"
    },
    "hidden": true
   },
   "outputs": [],
   "source": [
    "####how to get pandas columns by index instead of naming:\n",
    "#df.iloc[:, whateverindexnum]\n",
    "#how to find the index in a pandas df? \n",
    "#df.columns.get_loc('columname')\n",
    "\n",
    "#because the daa is in minutes and hours, we will have to store it as a string first\n",
    "df['traveltimetostanford'] = '' # index 6\n",
    "df['traveltimetogoogleplex'] = '' # index 7\n",
    "df['traveltimetosf'] = '' #index 8"
   ]
  },
  {
   "cell_type": "code",
   "execution_count": 7,
   "metadata": {
    "ExecuteTime": {
     "end_time": "2020-04-19T14:32:09.130939Z",
     "start_time": "2020-04-19T14:09:00.106546Z"
    },
    "hidden": true
   },
   "outputs": [
    {
     "name": "stdout",
     "output_type": "stream",
     "text": [
      "address_column: 0 row_index: 0 31 min\n",
      "address_column: 0 row_index: 1 32 min\n",
      "address_column: 0 row_index: 2 35 min\n",
      "address_column: 0 row_index: 3 29 min\n",
      "address_column: 0 row_index: 4 38 min\n",
      "address_column: 0 row_index: 5 32 min\n",
      "address_column: 0 row_index: 6 40 min\n",
      "address_column: 0 row_index: 7 35 min\n",
      "address_column: 0 row_index: 8 33 min\n",
      "address_column: 0 row_index: 9 36 min\n",
      "address_column: 0 row_index: 10 32 min\n",
      "address_column: 0 row_index: 11 39 min\n",
      "address_column: 0 row_index: 12 32 min\n",
      "address_column: 0 row_index: 13 41 min\n",
      "address_column: 0 row_index: 14 30 min\n",
      "address_column: 0 row_index: 15 42 min\n",
      "address_column: 0 row_index: 16 31 min\n",
      "address_column: 0 row_index: 17 39 min\n",
      "address_column: 0 row_index: 18 32 min\n",
      "address_column: 0 row_index: 19 39 min\n",
      "address_column: 0 row_index: 20 32 min\n",
      "address_column: 0 row_index: 21 31 min\n",
      "address_column: 0 row_index: 22 37 min\n",
      "address_column: 0 row_index: 23 38 min\n",
      "address_column: 0 row_index: 24 35 min\n",
      "address_column: 0 row_index: 25 37 min\n",
      "address_column: 0 row_index: 26 5 min\n",
      "address_column: 0 row_index: 27 6 min\n",
      "address_column: 0 row_index: 28 3 min\n",
      "address_column: 0 row_index: 29 6 min\n",
      "address_column: 0 row_index: 30 17 min\n",
      "address_column: 0 row_index: 31 9 min\n",
      "address_column: 0 row_index: 32 15 min\n",
      "address_column: 0 row_index: 33 17 min\n",
      "address_column: 0 row_index: 34 44 min\n",
      "address_column: 0 row_index: 35 50 min\n",
      "address_column: 0 row_index: 36 46 min\n",
      "address_column: 0 row_index: 37 47 min\n",
      "address_column: 0 row_index: 38 44 min\n",
      "address_column: 0 row_index: 39 55 min\n",
      "address_column: 0 row_index: 40 42 min\n",
      "address_column: 0 row_index: 41 42 min\n",
      "address_column: 0 row_index: 42 42 min\n",
      "address_column: 0 row_index: 43 41 min\n",
      "address_column: 0 row_index: 44 31 min\n",
      "address_column: 0 row_index: 45 39 min\n",
      "address_column: 0 row_index: 46 34 min\n",
      "address_column: 0 row_index: 47 40 min\n",
      "address_column: 0 row_index: 48 42 min\n",
      "address_column: 0 row_index: 49 33 min\n",
      "address_column: 0 row_index: 50 30 min\n",
      "address_column: 0 row_index: 51 43 min\n",
      "address_column: 0 row_index: 52 42 min\n",
      "address_column: 0 row_index: 53 41 min\n",
      "address_column: 0 row_index: 54 39 min\n",
      "address_column: 0 row_index: 55 38 min\n",
      "address_column: 0 row_index: 56 34 min\n",
      "address_column: 0 row_index: 57 50 min\n",
      "address_column: 0 row_index: 58 29 min\n",
      "address_column: 0 row_index: 59 30 min\n",
      "address_column: 0 row_index: 60 28 min\n",
      "address_column: 0 row_index: 61 47 min\n",
      "address_column: 0 row_index: 62 55 min\n",
      "address_column: 0 row_index: 63 47 min\n",
      "address_column: 0 row_index: 64 54 min\n",
      "address_column: 0 row_index: 65 54 min\n",
      "address_column: 0 row_index: 66 22 min\n",
      "address_column: 0 row_index: 67 18 min\n",
      "address_column: 0 row_index: 68 25 min\n",
      "address_column: 0 row_index: 69 24 min\n",
      "address_column: 0 row_index: 70 26 min\n",
      "address_column: 0 row_index: 71 22 min\n",
      "address_column: 0 row_index: 72 31 min\n",
      "address_column: 0 row_index: 73 21 min\n",
      "address_column: 0 row_index: 74 26 min\n",
      "address_column: 0 row_index: 75 39 min\n",
      "address_column: 0 row_index: 76 21 min\n",
      "address_column: 0 row_index: 77 24 min\n",
      "address_column: 0 row_index: 78 23 min\n",
      "address_column: 0 row_index: 79 48 min\n",
      "address_column: 0 row_index: 80 18 min\n",
      "address_column: 0 row_index: 81 24 min\n",
      "address_column: 0 row_index: 82 27 min\n",
      "address_column: 0 row_index: 83 24 min\n",
      "address_column: 0 row_index: 84 33 min\n",
      "address_column: 0 row_index: 85 22 min\n",
      "address_column: 0 row_index: 86 18 min\n",
      "address_column: 0 row_index: 87 16 min\n",
      "address_column: 0 row_index: 88 32 min\n",
      "address_column: 0 row_index: 89 23 min\n",
      "address_column: 0 row_index: 90 19 min\n",
      "address_column: 0 row_index: 91 21 min\n",
      "address_column: 0 row_index: 92 42 min\n",
      "address_column: 0 row_index: 93 21 min\n",
      "address_column: 0 row_index: 94 19 min\n",
      "address_column: 0 row_index: 95 20 min\n",
      "address_column: 0 row_index: 96 18 min\n",
      "address_column: 0 row_index: 97 27 min\n",
      "address_column: 0 row_index: 98 18 min\n",
      "address_column: 0 row_index: 99 1 h 25 min\n",
      "address_column: 0 row_index: 100 16 min\n",
      "address_column: 0 row_index: 101 20 min\n",
      "address_column: 0 row_index: 102 22 min\n",
      "address_column: 0 row_index: 103 17 min\n",
      "address_column: 0 row_index: 104 20 min\n",
      "address_column: 0 row_index: 105 18 min\n",
      "address_column: 0 row_index: 106 21 min\n",
      "address_column: 0 row_index: 107 18 min\n",
      "address_column: 0 row_index: 108 23 min\n",
      "address_column: 0 row_index: 109 22 min\n",
      "address_column: 0 row_index: 110 27 min\n",
      "address_column: 0 row_index: 111 22 min\n",
      "address_column: 0 row_index: 112 13 min\n",
      "address_column: 0 row_index: 113 14 min\n",
      "address_column: 0 row_index: 114 16 min\n",
      "address_column: 0 row_index: 115 15 min\n",
      "address_column: 0 row_index: 116 18 min\n",
      "address_column: 0 row_index: 117 11 min\n",
      "address_column: 0 row_index: 118 13 min\n",
      "address_column: 0 row_index: 119 47 min\n",
      "address_column: 0 row_index: 120 50 min\n",
      "address_column: 0 row_index: 121 17 min\n",
      "address_column: 0 row_index: 122 27 min\n",
      "address_column: 0 row_index: 123 29 min\n",
      "address_column: 0 row_index: 124 32 min\n",
      "address_column: 0 row_index: 125 34 min\n",
      "address_column: 0 row_index: 126 33 min\n",
      "address_column: 1 row_index: 0 32 min\n",
      "address_column: 1 row_index: 1 32 min\n",
      "address_column: 1 row_index: 2 35 min\n",
      "address_column: 1 row_index: 3 32 min\n",
      "address_column: 1 row_index: 4 38 min\n",
      "address_column: 1 row_index: 5 32 min\n",
      "address_column: 1 row_index: 6 40 min\n",
      "address_column: 1 row_index: 7 36 min\n",
      "address_column: 1 row_index: 8 36 min\n",
      "address_column: 1 row_index: 9 36 min\n",
      "address_column: 1 row_index: 10 36 min\n",
      "address_column: 1 row_index: 11 39 min\n",
      "address_column: 1 row_index: 12 35 min\n",
      "address_column: 1 row_index: 13 40 min\n",
      "address_column: 1 row_index: 14 33 min\n",
      "address_column: 1 row_index: 15 43 min\n",
      "address_column: 1 row_index: 16 31 min\n",
      "address_column: 1 row_index: 17 42 min\n",
      "address_column: 1 row_index: 18 32 min\n",
      "address_column: 1 row_index: 19 40 min\n",
      "address_column: 1 row_index: 20 35 min\n",
      "address_column: 1 row_index: 21 31 min\n",
      "address_column: 1 row_index: 22 36 min\n",
      "address_column: 1 row_index: 23 37 min\n",
      "address_column: 1 row_index: 24 34 min\n",
      "address_column: 1 row_index: 25 37 min\n",
      "address_column: 1 row_index: 26 15 min\n",
      "address_column: 1 row_index: 27 14 min\n",
      "address_column: 1 row_index: 28 9 min\n",
      "address_column: 1 row_index: 29 6 min\n",
      "address_column: 1 row_index: 30 16 min\n",
      "address_column: 1 row_index: 31 14 min\n",
      "address_column: 1 row_index: 32 29 min\n",
      "address_column: 1 row_index: 33 16 min\n",
      "address_column: 1 row_index: 34 44 min\n",
      "address_column: 1 row_index: 35 49 min\n",
      "address_column: 1 row_index: 36 46 min\n",
      "address_column: 1 row_index: 37 47 min\n",
      "address_column: 1 row_index: 38 43 min\n",
      "address_column: 1 row_index: 39 54 min\n",
      "address_column: 1 row_index: 40 42 min\n",
      "address_column: 1 row_index: 41 42 min\n",
      "address_column: 1 row_index: 42 43 min\n",
      "address_column: 1 row_index: 43 40 min\n",
      "address_column: 1 row_index: 44 31 min\n",
      "address_column: 1 row_index: 45 38 min\n",
      "address_column: 1 row_index: 46 33 min\n",
      "address_column: 1 row_index: 47 40 min\n",
      "address_column: 1 row_index: 48 41 min\n",
      "address_column: 1 row_index: 49 33 min\n",
      "address_column: 1 row_index: 50 30 min\n",
      "address_column: 1 row_index: 51 42 min\n",
      "address_column: 1 row_index: 52 41 min\n",
      "address_column: 1 row_index: 53 41 min\n",
      "address_column: 1 row_index: 54 38 min\n",
      "address_column: 1 row_index: 55 37 min\n",
      "address_column: 1 row_index: 56 34 min\n",
      "address_column: 1 row_index: 57 49 min\n",
      "address_column: 1 row_index: 58 29 min\n",
      "address_column: 1 row_index: 59 30 min\n",
      "address_column: 1 row_index: 60 28 min\n",
      "address_column: 1 row_index: 61 46 min\n",
      "address_column: 1 row_index: 62 54 min\n",
      "address_column: 1 row_index: 63 46 min\n",
      "address_column: 1 row_index: 64 53 min\n",
      "address_column: 1 row_index: 65 53 min\n",
      "address_column: 1 row_index: 66 22 min\n",
      "address_column: 1 row_index: 67 18 min\n",
      "address_column: 1 row_index: 68 24 min\n",
      "address_column: 1 row_index: 69 18 min\n",
      "address_column: 1 row_index: 70 22 min\n",
      "address_column: 1 row_index: 71 15 min\n",
      "address_column: 1 row_index: 72 26 min\n",
      "address_column: 1 row_index: 73 15 min\n",
      "address_column: 1 row_index: 74 20 min\n",
      "address_column: 1 row_index: 75 35 min\n",
      "address_column: 1 row_index: 76 17 min\n",
      "address_column: 1 row_index: 77 19 min\n",
      "address_column: 1 row_index: 78 19 min\n",
      "address_column: 1 row_index: 79 41 min\n",
      "address_column: 1 row_index: 80 15 min\n",
      "address_column: 1 row_index: 81 18 min\n",
      "address_column: 1 row_index: 82 20 min\n"
     ]
    },
    {
     "name": "stdout",
     "output_type": "stream",
     "text": [
      "address_column: 1 row_index: 83 17 min\n",
      "address_column: 1 row_index: 84 27 min\n",
      "address_column: 1 row_index: 85 19 min\n",
      "address_column: 1 row_index: 86 14 min\n",
      "address_column: 1 row_index: 87 13 min\n",
      "address_column: 1 row_index: 88 25 min\n",
      "address_column: 1 row_index: 89 17 min\n",
      "address_column: 1 row_index: 90 12 min\n",
      "address_column: 1 row_index: 91 15 min\n",
      "address_column: 1 row_index: 92 35 min\n",
      "address_column: 1 row_index: 93 15 min\n",
      "address_column: 1 row_index: 94 15 min\n",
      "address_column: 1 row_index: 95 16 min\n",
      "address_column: 1 row_index: 96 12 min\n",
      "address_column: 1 row_index: 97 23 min\n",
      "address_column: 1 row_index: 98 11 min\n",
      "address_column: 1 row_index: 99 1 h 19 min\n",
      "address_column: 1 row_index: 100 10 min\n",
      "address_column: 1 row_index: 101 14 min\n",
      "address_column: 1 row_index: 102 21 min\n",
      "address_column: 1 row_index: 103 21 min\n",
      "address_column: 1 row_index: 104 19 min\n",
      "address_column: 1 row_index: 105 18 min\n",
      "address_column: 1 row_index: 106 25 min\n",
      "address_column: 1 row_index: 107 17 min\n",
      "address_column: 1 row_index: 108 23 min\n",
      "address_column: 1 row_index: 109 15 min\n",
      "address_column: 1 row_index: 110 20 min\n",
      "address_column: 1 row_index: 111 22 min\n",
      "address_column: 1 row_index: 112 7 min\n",
      "address_column: 1 row_index: 113 8 min\n",
      "address_column: 1 row_index: 114 9 min\n",
      "address_column: 1 row_index: 115 12 min\n",
      "address_column: 1 row_index: 116 12 min\n",
      "address_column: 1 row_index: 117 14 min\n",
      "address_column: 1 row_index: 118 7 min\n",
      "address_column: 1 row_index: 119 46 min\n",
      "address_column: 1 row_index: 120 48 min\n",
      "address_column: 1 row_index: 121 18 min\n",
      "address_column: 1 row_index: 122 27 min\n",
      "address_column: 1 row_index: 123 29 min\n",
      "address_column: 1 row_index: 124 31 min\n",
      "address_column: 1 row_index: 125 33 min\n",
      "address_column: 1 row_index: 126 33 min\n",
      "address_column: 2 row_index: 0 10 min\n",
      "address_column: 2 row_index: 1 10 min\n",
      "address_column: 2 row_index: 2 14 min\n",
      "address_column: 2 row_index: 3 13 min\n",
      "address_column: 2 row_index: 4 11 min\n",
      "address_column: 2 row_index: 5 12 min\n",
      "address_column: 2 row_index: 6 7 min\n",
      "address_column: 2 row_index: 7 17 min\n",
      "address_column: 2 row_index: 8 20 min\n",
      "address_column: 2 row_index: 9 failed for: \n",
      " https://www.google.com/maps/dir/94105/Salesforce+Tower,+415+Mission+St,+San+Francisco,+CA+94105/\n",
      "address_column: 2 row_index: 10 21 min\n",
      "address_column: 2 row_index: 11 10 min\n",
      "address_column: 2 row_index: 12 16 min\n",
      "address_column: 2 row_index: 13 7 min\n",
      "address_column: 2 row_index: 14 18 min\n",
      "address_column: 2 row_index: 15 14 min\n",
      "address_column: 2 row_index: 16 16 min\n",
      "address_column: 2 row_index: 17 22 min\n",
      "address_column: 2 row_index: 18 14 min\n",
      "address_column: 2 row_index: 19 16 min\n",
      "address_column: 2 row_index: 20 17 min\n",
      "address_column: 2 row_index: 21 8 min\n",
      "address_column: 2 row_index: 22 11 min\n",
      "address_column: 2 row_index: 23 failed for: \n",
      " https://www.google.com/maps/dir/94111/Salesforce+Tower,+415+Mission+St,+San+Francisco,+CA+94105/\n",
      "address_column: 2 row_index: 24 10 min\n",
      "address_column: 2 row_index: 25 failed for: \n",
      " https://www.google.com/maps/dir/94104/Salesforce+Tower,+415+Mission+St,+San+Francisco,+CA+94105/\n",
      "address_column: 2 row_index: 26 41 min\n",
      "address_column: 2 row_index: 27 38 min\n",
      "address_column: 2 row_index: 28 38 min\n",
      "address_column: 2 row_index: 29 36 min\n",
      "address_column: 2 row_index: 30 36 min\n",
      "address_column: 2 row_index: 31 36 min\n",
      "address_column: 2 row_index: 32 45 min\n",
      "address_column: 2 row_index: 33 31 min\n",
      "address_column: 2 row_index: 34 16 min\n",
      "address_column: 2 row_index: 35 19 min\n",
      "address_column: 2 row_index: 36 16 min\n",
      "address_column: 2 row_index: 37 18 min\n",
      "address_column: 2 row_index: 38 16 min\n",
      "address_column: 2 row_index: 39 23 min\n",
      "address_column: 2 row_index: 40 13 min\n",
      "address_column: 2 row_index: 41 12 min\n",
      "address_column: 2 row_index: 42 13 min\n",
      "address_column: 2 row_index: 43 13 min\n",
      "address_column: 2 row_index: 44 19 min\n",
      "address_column: 2 row_index: 45 12 min\n",
      "address_column: 2 row_index: 46 16 min\n",
      "address_column: 2 row_index: 47 13 min\n",
      "address_column: 2 row_index: 48 14 min\n",
      "address_column: 2 row_index: 49 18 min\n",
      "address_column: 2 row_index: 50 20 min\n",
      "address_column: 2 row_index: 51 18 min\n",
      "address_column: 2 row_index: 52 22 min\n",
      "address_column: 2 row_index: 53 11 min\n",
      "address_column: 2 row_index: 54 15 min\n",
      "address_column: 2 row_index: 55 16 min\n",
      "address_column: 2 row_index: 56 22 min\n",
      "address_column: 2 row_index: 57 18 min\n",
      "address_column: 2 row_index: 58 22 min\n",
      "address_column: 2 row_index: 59 26 min\n",
      "address_column: 2 row_index: 60 25 min\n",
      "address_column: 2 row_index: 61 16 min\n",
      "address_column: 2 row_index: 62 23 min\n",
      "address_column: 2 row_index: 63 16 min\n",
      "address_column: 2 row_index: 64 23 min\n",
      "address_column: 2 row_index: 65 22 min\n",
      "address_column: 2 row_index: 66 29 min\n",
      "address_column: 2 row_index: 67 31 min\n",
      "address_column: 2 row_index: 68 30 min\n",
      "address_column: 2 row_index: 69 51 min\n",
      "address_column: 2 row_index: 70 58 min\n",
      "address_column: 2 row_index: 71 48 min\n",
      "address_column: 2 row_index: 72 59 min\n",
      "address_column: 2 row_index: 73 48 min\n",
      "address_column: 2 row_index: 74 56 min\n",
      "address_column: 2 row_index: 75 1 h 11 min\n",
      "address_column: 2 row_index: 76 53 min\n",
      "address_column: 2 row_index: 77 55 min\n",
      "address_column: 2 row_index: 78 55 min\n",
      "address_column: 2 row_index: 79 1 h 15 min\n",
      "address_column: 2 row_index: 80 51 min\n",
      "address_column: 2 row_index: 81 46 min\n",
      "address_column: 2 row_index: 82 54 min\n",
      "address_column: 2 row_index: 83 50 min\n",
      "address_column: 2 row_index: 84 1 h 1 min\n",
      "address_column: 2 row_index: 85 55 min\n",
      "address_column: 2 row_index: 86 49 min\n",
      "address_column: 2 row_index: 87 48 min\n",
      "address_column: 2 row_index: 88 58 min\n",
      "address_column: 2 row_index: 89 48 min\n",
      "address_column: 2 row_index: 90 45 min\n",
      "address_column: 2 row_index: 91 48 min\n",
      "address_column: 2 row_index: 92 1 h 7 min\n",
      "address_column: 2 row_index: 93 44 min\n",
      "address_column: 2 row_index: 94 51 min\n",
      "address_column: 2 row_index: 95 48 min\n",
      "address_column: 2 row_index: 96 41 min\n",
      "address_column: 2 row_index: 97 57 min\n",
      "address_column: 2 row_index: 98 47 min\n",
      "address_column: 2 row_index: 99 1 h 53 min\n",
      "address_column: 2 row_index: 100 45 min\n",
      "address_column: 2 row_index: 101 49 min\n",
      "address_column: 2 row_index: 102 32 min\n",
      "address_column: 2 row_index: 103 29 min\n",
      "address_column: 2 row_index: 104 25 min\n",
      "address_column: 2 row_index: 105 29 min\n",
      "address_column: 2 row_index: 106 27 min\n",
      "address_column: 2 row_index: 107 31 min\n",
      "address_column: 2 row_index: 108 35 min\n",
      "address_column: 2 row_index: 109 37 min\n",
      "address_column: 2 row_index: 110 42 min\n",
      "address_column: 2 row_index: 111 36 min\n",
      "address_column: 2 row_index: 112 43 min\n",
      "address_column: 2 row_index: 113 44 min\n",
      "address_column: 2 row_index: 114 45 min\n",
      "address_column: 2 row_index: 115 47 min\n",
      "address_column: 2 row_index: 116 48 min\n",
      "address_column: 2 row_index: 117 44 min\n",
      "address_column: 2 row_index: 118 43 min\n",
      "address_column: 2 row_index: 119 19 min\n",
      "address_column: 2 row_index: 120 22 min\n",
      "address_column: 2 row_index: 121 33 min\n",
      "address_column: 2 row_index: 122 26 min\n",
      "address_column: 2 row_index: 123 33 min\n",
      "address_column: 2 row_index: 124 32 min\n",
      "address_column: 2 row_index: 125 28 min\n",
      "address_column: 2 row_index: 126 28 min\n"
     ]
    }
   ],
   "source": [
    "\n",
    "def gettimetaken(string):\n",
    "    endindex = string.find('<')\n",
    "    return string[:endindex]\n",
    "#python indexing = start index includes the no. itself. end index does not\n",
    "\n",
    "chromedriver = \"/home/xtzie/anaconda3/envs/metis/lib/python3.7/site-packages/python-chromedriver_edited(copy)/chromedriver\" # path to the chromedriver executable\n",
    "os.environ[\"webdriver.chrome.driver\"] = chromedriver #SYNTAX\n",
    "driver = webdriver.Chrome(chromedriver)\n",
    "\n",
    "for column, address in enumerate([df['stanfordurl'], df['googleplexurl'], df['salesforceurl']]):\n",
    "    for row, url in enumerate(address):\n",
    "        driver.get(url)\n",
    "        driver.page_source[:999999999999999999999999999]\n",
    "        soup = BeautifulSoup(driver.page_source, 'html.parser')\n",
    "        soupstring = str(soup)\n",
    "        k = np.random.randint(55,110) / 180\n",
    "        time.sleep(k)\n",
    "    #since it's java script, you're loading the page, then parsing it as a string\n",
    "    # after parsing as a string, use regex to search for that specific code line \n",
    "    #(that hopefully is uniform throughout iterations)\n",
    "    #then get the term after that\n",
    "    # put it into a frame, matched with the ZIP code or longitude/latitude\n",
    "    # sample string with travel data:\n",
    "    # <span jstcache=\"309\">22 min</span>\n",
    "        try:\n",
    "            soupstring = str(soup)\n",
    "            startindex = re.search('jstcache=\"311\"', soupstring).end() + 1\n",
    "            timetakenstring = soupstring[startindex:startindex + 20]\n",
    "            x = gettimetaken(timetakenstring)\n",
    "            df.iloc[row , 6 + column] = x\n",
    "            print('address_column:', column, 'row_index:', row, x)\n",
    "            ##note! you must hard code the right reference row and column\n",
    "        except:\n",
    "            print('address_column:', column, 'row_index:', row, 'failed for:', '\\n', url)"
   ]
  },
  {
   "cell_type": "markdown",
   "metadata": {
    "heading_collapsed": true
   },
   "source": [
    "#### webscraper (household income)"
   ]
  },
  {
   "cell_type": "code",
   "execution_count": 10,
   "metadata": {
    "ExecuteTime": {
     "end_time": "2020-04-19T14:44:57.745320Z",
     "start_time": "2020-04-19T14:41:48.882137Z"
    },
    "hidden": true,
    "scrolled": true
   },
   "outputs": [
    {
     "name": "stderr",
     "output_type": "stream",
     "text": [
      "/home/xtzie/anaconda3/envs/metis/lib/python3.7/site-packages/ipykernel_launcher.py:21: SettingWithCopyWarning: \n",
      "A value is trying to be set on a copy of a slice from a DataFrame\n",
      "\n",
      "See the caveats in the documentation: http://pandas.pydata.org/pandas-docs/stable/user_guide/indexing.html#returning-a-view-versus-a-copy\n",
      "/home/xtzie/anaconda3/envs/metis/lib/python3.7/site-packages/ipykernel_launcher.py:22: SettingWithCopyWarning: \n",
      "A value is trying to be set on a copy of a slice from a DataFrame\n",
      "\n",
      "See the caveats in the documentation: http://pandas.pydata.org/pandas-docs/stable/user_guide/indexing.html#returning-a-view-versus-a-copy\n",
      "/home/xtzie/anaconda3/envs/metis/lib/python3.7/site-packages/ipykernel_launcher.py:23: SettingWithCopyWarning: \n",
      "A value is trying to be set on a copy of a slice from a DataFrame\n",
      "\n",
      "See the caveats in the documentation: http://pandas.pydata.org/pandas-docs/stable/user_guide/indexing.html#returning-a-view-versus-a-copy\n",
      "/home/xtzie/anaconda3/envs/metis/lib/python3.7/site-packages/ipykernel_launcher.py:24: SettingWithCopyWarning: \n",
      "A value is trying to be set on a copy of a slice from a DataFrame\n",
      "\n",
      "See the caveats in the documentation: http://pandas.pydata.org/pandas-docs/stable/user_guide/indexing.html#returning-a-view-versus-a-copy\n"
     ]
    },
    {
     "name": "stdout",
     "output_type": "stream",
     "text": [
      "failed for  94141\n"
     ]
    }
   ],
   "source": [
    "df['medianhouseholdincome'] = '' #index 9\n",
    "df['averagehouseholdincome'] = ''#index 10\n",
    "df['percapitaincome'] = '' #index 11\n",
    "df['highincomehouseholds'] = '' #index 12\n",
    "\n",
    "# given that this is a simple HTML, you may be able to plainly use beautiful soup for this\n",
    "\n",
    "for index, url in enumerate(df['incomebyzipcodeurl']):\n",
    "    urlneeded = url\n",
    "    response = requests.get(urlneeded)\n",
    "    response.status_code  #200 = success!\n",
    "    page = response.text\n",
    "    soup = BeautifulSoup(page, \"lxml\")\n",
    "    k = np.random.randint(50,100)/140\n",
    "    time.sleep(k)\n",
    "    #lxml, html.parse these have got to do with diff ways to intepret page\n",
    "    #for past few sites using lxml parser seems fine, don't need to fix what's not broken\n",
    "    # more info: https://www.crummy.com/software/BeautifulSoup/bs4/doc/#differences-between-parsers\n",
    "    try:\n",
    "        templist = soup.find_all(class_=\"hilite\")[0:4]\n",
    "        df['medianhouseholdincome'][index] = templist[0].text\n",
    "        df['averagehouseholdincome'][index] = templist[1].text\n",
    "        df['percapitaincome'][index] = templist[2].text\n",
    "        df['highincomehouseholds'][index] = templist[3].text\n",
    "        #class_=\"hilite\" seens to return the columns you need:\n",
    "        #0 median household income\n",
    "        #1 average household income\n",
    "        #2 per capita income\n",
    "        #3 high income households (% of households with income > $200,000)\n",
    "    except:\n",
    "        print('failed for ', df['zipcode'][index])\n"
   ]
  },
  {
   "cell_type": "markdown",
   "metadata": {
    "hidden": true
   },
   "source": [
    "we convert the currency strings into integers"
   ]
  },
  {
   "cell_type": "code",
   "execution_count": 12,
   "metadata": {
    "ExecuteTime": {
     "end_time": "2020-04-19T14:44:57.790468Z",
     "start_time": "2020-04-19T14:44:57.779452Z"
    },
    "hidden": true
   },
   "outputs": [],
   "source": [
    "# df['medianhouseholdincome'] = '' #index 9\n",
    "# df['averagehouseholdincome'] = ''#index 10\n",
    "# df['percapitaincome'] = '' #index 11\n",
    "# df['highincomehouseholds'] = '' #index 12\n",
    "\n",
    "def currency_to_int(x):\n",
    "    try:\n",
    "        return int(re.sub('[$,,]', '', x))\n",
    "    except:\n",
    "        return x\n",
    "\n",
    "for x in range(0,4):\n",
    "    df.iloc[:, 9 + x] = df.iloc[:, 9 + x].apply(lambda x: currency_to_int(x))"
   ]
  },
  {
   "cell_type": "markdown",
   "metadata": {
    "heading_collapsed": true
   },
   "source": [
    "#### webscraper (walk scores)"
   ]
  },
  {
   "cell_type": "code",
   "execution_count": 14,
   "metadata": {
    "ExecuteTime": {
     "end_time": "2020-04-19T14:50:27.921183Z",
     "start_time": "2020-04-19T14:44:57.822945Z"
    },
    "hidden": true
   },
   "outputs": [
    {
     "name": "stderr",
     "output_type": "stream",
     "text": [
      "/home/xtzie/anaconda3/envs/metis/lib/python3.7/site-packages/ipykernel_launcher.py:30: SettingWithCopyWarning: \n",
      "A value is trying to be set on a copy of a slice from a DataFrame\n",
      "\n",
      "See the caveats in the documentation: http://pandas.pydata.org/pandas-docs/stable/user_guide/indexing.html#returning-a-view-versus-a-copy\n"
     ]
    },
    {
     "name": "stdout",
     "output_type": "stream",
     "text": [
      "failed for: https://www.walkscore.com/CA/94027\n",
      "failed for: https://www.walkscore.com/CA/94063\n",
      "failed for: https://www.walkscore.com/CA/94061\n",
      "failed for: https://www.walkscore.com/CA/94062\n",
      "failed for: https://www.walkscore.com/CA/94065\n",
      "failed for: https://www.walkscore.com/CA/94708\n",
      "failed for: https://www.walkscore.com/CA/94618\n",
      "failed for: https://www.walkscore.com/CA/94602\n",
      "failed for: https://www.walkscore.com/CA/94579\n",
      "failed for: https://www.walkscore.com/CA/94587\n",
      "failed for: https://www.walkscore.com/CA/95135\n",
      "failed for: https://www.walkscore.com/CA/95132\n",
      "failed for: https://www.walkscore.com/CA/95037\n",
      "failed for: https://www.walkscore.com/CA/94404\n",
      "failed for: https://www.walkscore.com/CA/94010\n",
      "failed for: https://www.walkscore.com/CA/94002\n",
      "failed for: https://www.walkscore.com/CA/94560\n",
      "failed for: https://www.walkscore.com/CA/94086\n",
      "failed for: https://www.walkscore.com/CA/94563\n",
      "failed for: https://www.walkscore.com/CA/94549\n",
      "failed for: https://www.walkscore.com/CA/94070\n"
     ]
    }
   ],
   "source": [
    "df['walk'] = 0 #index 13\n",
    "df['bike'] = 0 #index 14\n",
    "df['transit'] = 0 #index 15\n",
    "\n",
    "df['failedwalkscores'] = ''\n",
    "\n",
    "def gettimetaken(string):\n",
    "    endindex = string.find('.')\n",
    "    return string[:endindex]\n",
    "\n",
    "getwalkscore = 'badge/walk/score/'\n",
    "gettransitscore = 'badge/transit/score/'\n",
    "getbikescore = 'badge/bike/score/'\n",
    "\n",
    "scorelist = [getwalkscore, gettransitscore, getbikescore]\n",
    "\n",
    "for index, url in enumerate(df['walkscoreurl']):\n",
    "    page = requests.get(url).text\n",
    "    soup = BeautifulSoup(page, 'lxml')\n",
    "    k = np.random.randint(50, 100)/100\n",
    "    time.sleep(k)\n",
    "    try:\n",
    "        for xtz, item in enumerate(scorelist):\n",
    "            soupstring = str(soup)\n",
    "            startindex = re.search(item, soupstring).end()\n",
    "            timetakenstring = soupstring[startindex:startindex + 20]\n",
    "            x = gettimetaken(timetakenstring)\n",
    "            df.iloc[index, 13 + xtz] = int(x)\n",
    "    except:\n",
    "        df['failedwalkscores'][index] = url\n",
    "        print('failed for:', url)\n",
    "\n",
    "#okay this should run smoothly."
   ]
  },
  {
   "cell_type": "markdown",
   "metadata": {
    "heading_collapsed": true
   },
   "source": [
    "#### Fill error values"
   ]
  },
  {
   "cell_type": "code",
   "execution_count": 80,
   "metadata": {
    "ExecuteTime": {
     "end_time": "2020-04-19T20:47:58.162527Z",
     "start_time": "2020-04-19T20:47:58.134712Z"
    },
    "hidden": true
   },
   "outputs": [
    {
     "name": "stdout",
     "output_type": "stream",
     "text": [
      "empty strings in traveltimetostanford\n",
      "0\n",
      "empty strings in traveltimetogoogleplex\n",
      "0\n",
      "empty strings in traveltimetosf\n",
      "0\n"
     ]
    }
   ],
   "source": [
    "#travel times\n",
    "for x in df.columns[6:9]:\n",
    "    print('empty strings in', x)\n",
    "    execution_string = f\"print(len(df[df.{x} == '']))\"\n",
    "    exec(execution_string)\n",
    "    \n",
    "#error/empty values in travel times due to distances being too short\n",
    "def mintime(x):\n",
    "    if x == '':\n",
    "        return '4 min'\n",
    "    else:\n",
    "        return x\n",
    "\n",
    "df['traveltimetosf'] = df.traveltimetosf.apply(lambda x: mintime(x))"
   ]
  },
  {
   "cell_type": "code",
   "execution_count": 99,
   "metadata": {
    "ExecuteTime": {
     "end_time": "2020-04-19T20:58:46.510300Z",
     "start_time": "2020-04-19T20:58:46.456977Z"
    },
    "hidden": true
   },
   "outputs": [
    {
     "data": {
      "text/plain": [
       "zipcode                                                               94141\n",
       "salesforceurl             https://www.google.com/maps/dir/94141/Salesfor...\n",
       "googleplexurl             https://www.google.com/maps/dir/94141/Googlepl...\n",
       "stanfordurl               https://www.google.com/maps/dir/94141/Stanford...\n",
       "incomebyzipcodeurl         https://www.incomebyzipcode.com/california/94141\n",
       "walkscoreurl                             https://www.walkscore.com/CA/94141\n",
       "traveltimetostanford                                                 31 min\n",
       "traveltimetogoogleplex                                               31 min\n",
       "traveltimetosf                                                        8 min\n",
       "medianhouseholdincome                                                 57015\n",
       "averagehouseholdincome                                               114448\n",
       "percapitaincome                                                       61694\n",
       "highincomehouseholds                                                  16.4%\n",
       "walk                                                                     96\n",
       "bike                                                                    100\n",
       "transit                                                                  97\n",
       "failedwalkscores                                                           \n",
       "Name: 21, dtype: object"
      ]
     },
     "execution_count": 99,
     "metadata": {},
     "output_type": "execute_result"
    }
   ],
   "source": [
    "#household income\n",
    "\n",
    "#9141 is the same as 94103\n",
    "df.iloc[21,9:13] = df.iloc[0,9:13]"
   ]
  },
  {
   "cell_type": "markdown",
   "metadata": {},
   "source": [
    "#### convert strings to integers"
   ]
  },
  {
   "cell_type": "code",
   "execution_count": 148,
   "metadata": {
    "ExecuteTime": {
     "end_time": "2020-04-19T21:34:02.272839Z",
     "start_time": "2020-04-19T21:34:02.246551Z"
    }
   },
   "outputs": [
    {
     "data": {
      "text/plain": [
       "array([16, 38, 35, 15, 27, 31, 11, 39, 22, 52, 25, 21, 34, 17, 12, 18, 10,\n",
       "       40, 32, 65, 26, 23, 30, 36, 14,  7, 13,  2,  3, 37,  9, 19,  5,  8,\n",
       "        4,  6, 48, 43, 24, 29, 33, 28, 58, 42, 44, 20])"
      ]
     },
     "execution_count": 148,
     "metadata": {},
     "output_type": "execute_result"
    }
   ],
   "source": [
    "import re\n",
    "def converter(string):\n",
    "    try:\n",
    "        return int(string)\n",
    "    except:\n",
    "        return string\n",
    "\n",
    "for x in df.columns[9:12]:\n",
    "    execone = f\"df['{x}'] = df.{x}.apply(lambda x: converter(x))\"\n",
    "    exectwo = f\"df['{x}'] = df.{x}.astype(int)\"\n",
    "    exec(execone)\n",
    "    exec(exectwo)\n",
    "    \n",
    "def percentconverter(x):\n",
    "    try:\n",
    "        return re.sub('%', '', x)\n",
    "    except:\n",
    "        return x\n",
    "\n",
    "def converter_float(string):\n",
    "    try:\n",
    "        return int(round(float(string), 0))\n",
    "    except:\n",
    "        return string\n",
    "\n",
    "df['highincomehouseholds'] = df.highincomehouseholds.apply(lambda x: percentconverter(x))\n",
    "df['highincomehouseholds'] = df.highincomehouseholds.apply(lambda x: converter_float(x))\n",
    "\n",
    "df.highincomehouseholds.unique()"
   ]
  },
  {
   "cell_type": "code",
   "execution_count": 150,
   "metadata": {
    "ExecuteTime": {
     "end_time": "2020-04-19T21:35:19.200667Z",
     "start_time": "2020-04-19T21:35:19.177667Z"
    }
   },
   "outputs": [],
   "source": [
    "def timestring(x):\n",
    "    try:\n",
    "        x = re.sub('min','',x)\n",
    "        if x.find('h') > 0:\n",
    "            hours = int(x[0])\n",
    "            x = x[4:]\n",
    "            minutes = int(x)\n",
    "            return hours * 60 + minutes\n",
    "        else:\n",
    "            return int(x)\n",
    "    except:\n",
    "        return x\n",
    "\n",
    "for x in df.columns[6:9]:\n",
    "    execone = f\"df['{x}'] = df.{x}.apply(lambda x: timestring(x))\"\n",
    "    exectwo = f\"df['{x}'] = df.{x}.astype(int)\"\n",
    "    exec(execone)\n",
    "    exec(exectwo)"
   ]
  },
  {
   "cell_type": "markdown",
   "metadata": {
    "heading_collapsed": true
   },
   "source": [
    "#### derive best values"
   ]
  },
  {
   "cell_type": "code",
   "execution_count": 162,
   "metadata": {
    "ExecuteTime": {
     "end_time": "2020-04-19T22:03:52.869107Z",
     "start_time": "2020-04-19T22:03:52.851399Z"
    },
    "hidden": true
   },
   "outputs": [],
   "source": [
    "#for walk bike and transit/car scores\n",
    "df['conveniencescore'] = [max(x, t, z) for x, t, z in zip(df.walk, df.bike, df.transit)]\n",
    "\n",
    "#for travel times\n",
    "df['shortest_travel'] = [min(x, t, z) for x, t, z in zip(df.traveltimetostanford, df.traveltimetosf, df.traveltimetogoogleplex)]"
   ]
  },
  {
   "cell_type": "markdown",
   "metadata": {},
   "source": [
    "#### writing to csv file"
   ]
  },
  {
   "cell_type": "code",
   "execution_count": 163,
   "metadata": {
    "ExecuteTime": {
     "end_time": "2020-04-19T22:04:00.320185Z",
     "start_time": "2020-04-19T22:04:00.292332Z"
    }
   },
   "outputs": [
    {
     "name": "stdout",
     "output_type": "stream",
     "text": [
      "<class 'pandas.core.frame.DataFrame'>\n",
      "RangeIndex: 127 entries, 0 to 126\n",
      "Data columns (total 19 columns):\n",
      "zipcode                   127 non-null int64\n",
      "salesforceurl             127 non-null object\n",
      "googleplexurl             127 non-null object\n",
      "stanfordurl               127 non-null object\n",
      "incomebyzipcodeurl        127 non-null object\n",
      "walkscoreurl              127 non-null object\n",
      "traveltimetostanford      127 non-null int64\n",
      "traveltimetogoogleplex    127 non-null int64\n",
      "traveltimetosf            127 non-null int64\n",
      "medianhouseholdincome     127 non-null int64\n",
      "averagehouseholdincome    127 non-null int64\n",
      "percapitaincome           127 non-null int64\n",
      "highincomehouseholds      127 non-null int64\n",
      "walk                      127 non-null int64\n",
      "bike                      127 non-null int64\n",
      "transit                   127 non-null int64\n",
      "failedwalkscores          127 non-null object\n",
      "conveniencescore          127 non-null int64\n",
      "shortest_travel           127 non-null int64\n",
      "dtypes: int64(13), object(6)\n",
      "memory usage: 19.0+ KB\n"
     ]
    }
   ],
   "source": [
    "#check types are correct and no more null values\n",
    "df.info()"
   ]
  },
  {
   "cell_type": "code",
   "execution_count": 164,
   "metadata": {
    "ExecuteTime": {
     "end_time": "2020-04-19T22:04:17.826937Z",
     "start_time": "2020-04-19T22:04:17.804241Z"
    }
   },
   "outputs": [],
   "source": [
    "df.to_csv('supplementary_data.csv')"
   ]
  },
  {
   "cell_type": "code",
   "execution_count": null,
   "metadata": {},
   "outputs": [],
   "source": []
  }
 ],
 "metadata": {
  "kernelspec": {
   "display_name": "Python [conda env:metis] *",
   "language": "python",
   "name": "conda-env-metis-py"
  },
  "language_info": {
   "codemirror_mode": {
    "name": "ipython",
    "version": 3
   },
   "file_extension": ".py",
   "mimetype": "text/x-python",
   "name": "python",
   "nbconvert_exporter": "python",
   "pygments_lexer": "ipython3",
   "version": "3.7.4"
  },
  "toc": {
   "base_numbering": 1,
   "nav_menu": {},
   "number_sections": false,
   "sideBar": true,
   "skip_h1_title": false,
   "title_cell": "Table of Contents",
   "title_sidebar": "Contents",
   "toc_cell": false,
   "toc_position": {},
   "toc_section_display": true,
   "toc_window_display": false
  }
 },
 "nbformat": 4,
 "nbformat_minor": 2
}
