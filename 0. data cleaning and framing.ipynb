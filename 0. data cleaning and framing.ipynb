{
 "cells": [
  {
   "cell_type": "code",
   "execution_count": 1,
   "metadata": {
    "ExecuteTime": {
     "end_time": "2020-03-02T07:52:03.723536Z",
     "start_time": "2020-03-02T07:52:03.262124Z"
    }
   },
   "outputs": [],
   "source": [
    "import os\n",
    "import pandas as pd\n",
    "import numpy as np"
   ]
  },
  {
   "cell_type": "markdown",
   "metadata": {},
   "source": [
    "#### merging csv files"
   ]
  },
  {
   "cell_type": "code",
   "execution_count": 2,
   "metadata": {
    "ExecuteTime": {
     "end_time": "2020-03-02T07:52:05.500112Z",
     "start_time": "2020-03-02T07:52:03.725814Z"
    }
   },
   "outputs": [
    {
     "name": "stdout",
     "output_type": "stream",
     "text": [
      "menlopark.csv merged\n",
      "redwood_city.csv merged\n",
      "SF_city.csv merged\n",
      "berkeley.csv merged\n",
      "oakland.csv merged\n",
      "san_leandro.csv merged\n",
      "richmond.csv merged\n",
      "union_city.csv merged\n",
      "sanjose.csv merged\n",
      "sanmateo_city.csv merged\n",
      "Fremont.csv merged\n",
      "Sunnyvale.csv merged\n",
      "orinda.csv merged\n",
      "belmont.csv merged\n",
      "hayward.csv merged\n"
     ]
    }
   ],
   "source": [
    "# merging Redfin downloads\n",
    "directory = '/home/xtzie/Desktop/proj2/housingdata/'\n",
    "\n",
    "coreframe = pd.read_csv('/home/xtzie/Desktop/proj2/housingdata/SF_city.csv')\n",
    "\n",
    "\n",
    "def intconvert(x):\n",
    "    try:\n",
    "        return int(x)\n",
    "    except:\n",
    "        #nested try excepts are possible\n",
    "        try:\n",
    "            return int(x[:4])\n",
    "        except:\n",
    "            return np.nan\n",
    "\n",
    "#loops through all files in the directory\n",
    "for file in os.listdir(directory):\n",
    "    try:\n",
    "        filename = directory + file\n",
    "        file2merge = pd.read_csv(filename)\n",
    "        #'ZIP OR POSTAL CODE' has string (e.g '910293-18201') values. line below converts them to integer or null value\n",
    "        file2merge['ZIP OR POSTAL CODE'] = file2merge['ZIP OR POSTAL CODE'].map(lambda x: intconvert(x))\n",
    "        coreframe = coreframe.merge(file2merge, how = 'outer')\n",
    "        '''\n",
    "        diff merges:\n",
    "        *outer - returns everything, if there's a diff in any values, creates a new row\n",
    "            nan values = left side values with no right side values\n",
    "                         right side values with no left side values\n",
    "        *left - keeps values of the left only, and appends values on the right - has nan values\n",
    "            nan values = left side values with no right side values\n",
    "        *right - keeps values of the right only and appends values on the left - has nan values\n",
    "            nan values = right side values with no left side values\n",
    "        *inner - keeps values only when right and left are exactly the same\n",
    "            no nan values\n",
    "        '''\n",
    "        print(file, 'merged')\n",
    "    except:\n",
    "        print(f'{file} has failed to merge')\n",
    "\n",
    "coreframe.to_csv('baseframe.csv')\n"
   ]
  },
  {
   "cell_type": "markdown",
   "metadata": {},
   "source": [
    "#### correcting zip codes"
   ]
  },
  {
   "cell_type": "code",
   "execution_count": 3,
   "metadata": {
    "ExecuteTime": {
     "end_time": "2020-03-02T07:52:05.554025Z",
     "start_time": "2020-03-02T07:52:05.502548Z"
    }
   },
   "outputs": [
    {
     "data": {
      "text/plain": [
       "array([94103, 94107, 94117, 94112, 94115, 94110, 94108, 94114, 94122,\n",
       "       94105, 94116, 94109, 94131, 94133, 94132, 94123, 94134, 94121,\n",
       "       94124, 94118, 94127, 94141, 94102, 94111, 94158, 94104, 94025,\n",
       "       94027, 94301, 94303, 94063, 94061, 94062, 94065, 94705, 94707,\n",
       "       94702, 94709, 94704, 94708, 94608, 94710, 94703, 94609,     0,\n",
       "       94603, 94612, 94601, 94610, 94618, 94605, 94577, 94611, 94619,\n",
       "       94607, 94602, 94606, 94621, 94530, 94578, 94579, 94580, 94805,\n",
       "       94801, 94804, 94803, 94806, 94587, 94555, 94544, 95121, 95123,\n",
       "       95112, 95139, 95110, 95136, 95120, 95124, 95125, 95118, 95135,\n",
       "       95129, 95132, 95111, 95122, 95138, 95008, 95117, 95128, 95148,\n",
       "       95133, 95134, 95116, 95127, 95131, 95130, 95126, 95035, 95119,\n",
       "       95054, 95037, 95002, 95113, 94404, 94402, 94401, 94403, 94010,\n",
       "       94002, 94536, 94538, 94539, 94560, 94089, 94085, 94086, 94087,\n",
       "       95051, 94024, 94041, 94563, 94549, 94070, 94541, 94545, 94542,\n",
       "       94546, 94552])"
      ]
     },
     "execution_count": 3,
     "metadata": {},
     "output_type": "execute_result"
    }
   ],
   "source": [
    "df = pd.read_csv('baseframe.csv')\n",
    "df.drop(labels = ['Unnamed: 0'], inplace = True, axis = 1)\n",
    "\n",
    "df['ZIP OR POSTAL CODE'].fillna(0, inplace = True)\n",
    "\n",
    "base = list(df['ZIP OR POSTAL CODE'].unique())\n",
    "base = np.asarray(base)\n",
    "\n",
    "# do a simple function:\n",
    "#tries to find closest zip code\n",
    "#if the zip code is zero, returns a null\n",
    "def corrector(x):\n",
    "    if x  == 0:\n",
    "        return x\n",
    "    elif x < 10000:\n",
    "        seekval = x * 10\n",
    "        index = (np.abs(base - seekval)).argmin()\n",
    "        return int(base[index])\n",
    "    else:\n",
    "        return int(x)\n",
    "\n",
    "df['ZIP OR POSTAL CODE'] = df['ZIP OR POSTAL CODE'].apply(lambda x: corrector(x))\n",
    "\n",
    "\n",
    "df['ZIP OR POSTAL CODE'] = df['ZIP OR POSTAL CODE'].astype(int)\n",
    "\n",
    "df['ZIP OR POSTAL CODE'].unique()"
   ]
  },
  {
   "cell_type": "markdown",
   "metadata": {},
   "source": [
    "#### writing to 'baseframe.csv' and 'zipcodelist(fromlistings).csv'"
   ]
  },
  {
   "cell_type": "code",
   "execution_count": 6,
   "metadata": {
    "ExecuteTime": {
     "end_time": "2020-03-02T07:53:50.364860Z",
     "start_time": "2020-03-02T07:53:50.350950Z"
    }
   },
   "outputs": [],
   "source": [
    "## create zipcode list\n",
    "\n",
    "zipcodes = list(df['ZIP OR POSTAL CODE'].unique())\n",
    "\n",
    "##create zipcode file\n",
    "#open can take in arg 'a' or 'w' 'w' will overwrite, 'a' will append. a will also create new file if doesn't exist\n",
    "#so safest to always use 'a'\n",
    "#'w' can be used if you are testing and doing multiple iterations\n",
    "file = open('zipcodelist(fromlistings).csv', 'w')\n",
    "\n",
    "for codenum in zipcodes:\n",
    "    file.write(str(codenum))\n",
    "    file.write('\\n') #better to write to newline, if write with ',' pandas will parse as a column\n",
    "                     #and return an empty data frame with many columns\n",
    "file.close()"
   ]
  },
  {
   "cell_type": "code",
   "execution_count": 5,
   "metadata": {
    "ExecuteTime": {
     "end_time": "2020-03-02T07:52:05.634298Z",
     "start_time": "2020-03-02T07:52:05.569131Z"
    }
   },
   "outputs": [],
   "source": [
    "df.to_csv('baseframe.csv')"
   ]
  }
 ],
 "metadata": {
  "kernelspec": {
   "display_name": "Python 3",
   "language": "python",
   "name": "python3"
  },
  "language_info": {
   "codemirror_mode": {
    "name": "ipython",
    "version": 3
   },
   "file_extension": ".py",
   "mimetype": "text/x-python",
   "name": "python",
   "nbconvert_exporter": "python",
   "pygments_lexer": "ipython3",
   "version": "3.7.4"
  },
  "toc": {
   "base_numbering": 1,
   "nav_menu": {},
   "number_sections": false,
   "sideBar": true,
   "skip_h1_title": false,
   "title_cell": "Table of Contents",
   "title_sidebar": "Contents",
   "toc_cell": false,
   "toc_position": {},
   "toc_section_display": true,
   "toc_window_display": false
  }
 },
 "nbformat": 4,
 "nbformat_minor": 2
}
